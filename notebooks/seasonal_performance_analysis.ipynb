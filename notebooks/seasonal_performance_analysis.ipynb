{
    "cells": [
        {
            "cell_type": "markdown",
            "metadata": {},
            "source": [
                "## BEIS Electrification of Heat Project - Analysis"
            ]
        },
        {
            "cell_type": "code",
            "execution_count": null,
            "metadata": {},
            "outputs": [],
            "source": [
                "import pandas as pd\n",
                "from sklearn.linear_model import LinearRegression\n",
                "import chart_functions as cf\n",
                "import analysis_functions as af\n",
                "import plotly.express as px\n",
                "import plotly.graph_objects as go\n",
                "from plotly.subplots import make_subplots\n",
                "import plotly.io as pio\n",
                "import scipy.stats as stats\n",
                "from statsmodels.stats.multicomp import pairwise_tukeyhsd\n",
                "import pylab\n",
                "import numpy as np\n",
                "import os\n",
                "\n",
                "pio.renderers.default = \"notebook\"\n",
                "\n",
                "# Set no limit to the number of columns displayed\n",
                "pd.set_option(\"display.max_columns\", None)\n",
                "\n",
                "# Set plotly colour scheme\n",
                "pio.templates[\"EoH\"] = go.layout.Template(\n",
                "    layout_colorway=[\"#%02x%02x%02x\" % rgb_colour for rgb_colour in cf.colour_scheme().values()]\n",
                ")\n",
                "pio.templates.default = \"EoH\"\n",
                "\n",
                "# Set opacity of lines and markers on scatter plots to allow high density scatters to display better\n",
                "scatter_opacity = 0.7"
            ]
        },
        {
            "cell_type": "code",
            "execution_count": null,
            "metadata": {},
            "outputs": [],
            "source": [
                "# Specify location for read and write\n",
                "eoh_folder = os.environ.get(\"EoH\")"
            ]
        },
        {
            "cell_type": "code",
            "execution_count": null,
            "metadata": {},
            "outputs": [],
            "source": [
                "# Read in data, 1 row per home\n",
                "home_summary = pd.read_csv(os.path.join(eoh_folder, \"processed\", \"home_summary.csv\"))\n",
                "\n",
                "# Add supplementary data columns from usmart\n",
                "home_summary = af.add_supplementary_data(home_summary)"
            ]
        },
        {
            "cell_type": "markdown",
            "metadata": {},
            "source": [
                "#### Data Selection\n",
                "742 homes were installed with a heat pump; a number drop out of the analysis for a variety of reasons.\n",
                "\n",
                "An algorithm was devised to select a 12-month window of data (out of the entire date range) for each home, prioritising higher quality data.\n",
                "\n",
                "The waterfall chart below provides detail and commentary on why and what homes are dropped.\n",
                "- SPF values outside of the range 1.5<SPF_Value<4.5 are deemed to be erroneous as SPFs outside that range are highly unlikely from a physical perspective.\n",
                "- An algorithm was devised to score the quality of data from cumulative meters received for each home. This focused on assessing how confident we are that the meter incremented continuously over the entire period (particularly during gaps in the data feed). A window_max_gap_score score of 4 or above is deemed to be unreliable, as this indicates either extremely long gaps with no apparent energy use, or a decrease in the meter reading during a long gap."
            ]
        },
        {
            "cell_type": "code",
            "execution_count": null,
            "metadata": {},
            "outputs": [],
            "source": [
                "# Set analysis thresholds\n",
                "SPF_value_min_threshold = 1.5\n",
                "SPF_value_max_threshold = 4.5\n",
                "window_max_score_threshold = 4\n",
                "still_monitoring_cut_off = pd.to_datetime(\"2022-08-01\", format=\"%Y-%m-%d\")\n",
                "\n",
                "# Create homes inclusion waterfall chart (v2) and adds exclusion fields to DataFrame\n",
                "home_summary = cf.chart_homes_waterfall2(\n",
                "    home_summary,\n",
                "    SPF_value_min_threshold,\n",
                "    SPF_value_max_threshold,\n",
                "    window_max_score_threshold,\n",
                "    still_monitoring_cut_off,\n",
                ")\n",
                "\n",
                "# Save copy of the home_summary file with supplementary columns\n",
                "home_summary.to_csv(os.path.join(eoh_folder, \"processed\", \"home_summary_with_install_info.csv\"), index=False)"
            ]
        },
        {
            "cell_type": "code",
            "execution_count": null,
            "metadata": {},
            "outputs": [],
            "source": [
                "# Create homes inclusion waterfall chart and create exclusion fields\n",
                "cf.chart_homes_waterfall(\n",
                "    home_summary,\n",
                "    SPF_value_min_threshold,\n",
                "    SPF_value_max_threshold,\n",
                "    window_max_score_threshold,\n",
                "    still_monitoring_cut_off,\n",
                ")\n"
            ]
        },
        {
            "cell_type": "code",
            "execution_count": null,
            "metadata": {},
            "outputs": [],
            "source": [
                "# Prepare the data for analysis\n",
                "\n",
                "# Reformat to 1 row per home per SPF_type\n",
                "home_summary = af.reformat_SPF_to_long(home_summary, cold_analysis=True)\n",
                "\n",
                "# Calculate total energy output\n",
                "home_summary[\"window_Total_Energy_Output\"] = (\n",
                "    home_summary[\"window_Heat_Pump_Energy_Output\"].fillna(0)\n",
                "    + home_summary[\"window_Boiler_Energy_Output\"].fillna(0)\n",
                "    + home_summary[\"window_Immersion_Heater_Energy_Consumed\"].fillna(0)\n",
                "    + home_summary[\"window_Back-up_Heater_Energy_Consumed\"].fillna(0)\n",
                ")\n",
                "\n",
                "# Split DataFrame into two: SPF and COP calculations\n",
                "home_summary_cold = home_summary[\n",
                "    (home_summary[\"SPF_type\"] != \"SPFH2\")\n",
                "    & (home_summary[\"SPF_type\"] != \"SPFH3\")\n",
                "    & (home_summary[\"SPF_type\"] != \"SPFH4\")\n",
                "]\n",
                "home_summary = home_summary[\n",
                "    (home_summary[\"SPF_type\"] == \"SPFH2\")\n",
                "    | (home_summary[\"SPF_type\"] == \"SPFH3\")\n",
                "    | (home_summary[\"SPF_type\"] == \"SPFH4\")\n",
                "]\n",
                "\n",
                "# Filter DataFrame to just those homes that are within the thresholds\n",
                "homes_within_threshold = home_summary[home_summary[\"Removed_from_analysis\"] == False]"
            ]
        },
        {
            "cell_type": "code",
            "execution_count": null,
            "metadata": {},
            "outputs": [],
            "source": [
                "# Show performance for GSHPs before removing\n",
                "pd.DataFrame(round(\n",
                "    homes_within_threshold[homes_within_threshold[\"HP_Type\"] == \"GSHP\"]\n",
                "    .groupby([\"Property_ID\", \"SPF_type\"])[\"SPF_value\"]\n",
                "    .first(),2)\n",
                ").reset_index().pivot(index=\"Property_ID\", columns=\"SPF_type\", values=\"SPF_value\")"
            ]
        },
        {
            "cell_type": "code",
            "execution_count": null,
            "metadata": {},
            "outputs": [],
            "source": [
                "# Remove GSHPs from analysis\n",
                "homes_within_threshold = homes_within_threshold[\n",
                "    homes_within_threshold[\"HP_Type\"] != \"GSHP\"\n",
                "]"
            ]
        },
        {
            "cell_type": "code",
            "execution_count": null,
            "metadata": {},
            "outputs": [],
            "source": [
                "# Count homes per delivery contractor\n",
                "pd.DataFrame(homes_within_threshold.groupby(\"Delivery_Contractor\")[\"Property_ID\"].nunique())"
            ]
        },
        {
            "cell_type": "code",
            "execution_count": null,
            "metadata": {},
            "outputs": [],
            "source": [
                "# # Optional code to impute erroneous/missing circulation pump data\n",
                "\n",
                "# Print the number of homes with a valid circ pump value\n",
                "valid_circs = homes_within_threshold[homes_within_threshold[\"window_Circulation_Pump_Energy_Consumed\"] > 0][\n",
                "    \"window_Circulation_Pump_Energy_Consumed\"\n",
                "].size\n",
                "print(f\"Valid circulation pump homes: {valid_circs/3}\")\n",
                "\n",
                "# Calculate the mean circ pump value for valid circ pump homes\n",
                "mean_circ = homes_within_threshold[homes_within_threshold[\"window_Circulation_Pump_Energy_Consumed\"] > 0][\n",
                "    \"window_Circulation_Pump_Energy_Consumed\"\n",
                "].mean()\n",
                "print(f\"Mean circulation pump value for valid homes: {round(mean_circ,1)}\")\n",
                "print(\"\")\n",
                "for SPF_type in [\"SPFH2\", \"SPFH3\"]:\n",
                "    print(SPF_type)\n",
                "    df = homes_within_threshold[homes_within_threshold[\"SPF_type\"] == SPF_type].copy()\n",
                "    # Generate stats on homes that qualify for the threshold\n",
                "    print(\"Original data\")\n",
                "    SPF_stats = af.stats_by_hp_and_SPF_type(df, by=\"HP_Type_3\", rounding=3)[\n",
                "        [\"HP_Type_3\", \"SPF_type\", \"Homes\", \"Median\", \"Median (IQR)\", \"Mean (95% CI)\"]\n",
                "    ].set_index([\"HP_Type_3\", \"SPF_type\"])\n",
                "    display(SPF_stats)\n",
                "\n",
                "    # Impute mean circ pump value into homes with invalid circ pump values\n",
                "    df[\"window_Circulation_Pump_Energy_Consumed\"] = np.where(\n",
                "        df[\"window_Circulation_Pump_Energy_Consumed\"] == 0,\n",
                "        mean_circ,\n",
                "        df[\"window_Circulation_Pump_Energy_Consumed\"],\n",
                "    )\n",
                "\n",
                "    # Recalculate SPF\n",
                "    if SPF_type == \"SPFH2\":\n",
                "\n",
                "        df[\"SPF_value\"] = df[\"window_Heat_Pump_Energy_Output\"] / (\n",
                "            df[\"window_Whole_System_Energy_Consumed\"]\n",
                "            - df[\"window_Circulation_Pump_Energy_Consumed\"]\n",
                "            - df[\"window_Immersion_Heater_Energy_Consumed\"]\n",
                "            - df[\"window_Back-up_Heater_Energy_Consumed\"]\n",
                "        )\n",
                "\n",
                "    elif SPF_type == \"SPFH3\":\n",
                "\n",
                "        df[\"SPF_value\"] = (\n",
                "            df[\"window_Heat_Pump_Energy_Output\"]\n",
                "            + df[\"window_Immersion_Heater_Energy_Consumed\"]\n",
                "            + df[\"window_Back-up_Heater_Energy_Consumed\"]\n",
                "        ) / (df[\"window_Whole_System_Energy_Consumed\"] - df[\"window_Circulation_Pump_Energy_Consumed\"])\n",
                "\n",
                "    # Generate stats on homes that qualify for the threshold\n",
                "    print(\"Edited data\")\n",
                "    SPF_stats_edited = af.stats_by_hp_and_SPF_type(df, by=\"HP_Type_3\", rounding=3)[\n",
                "        [\"HP_Type_3\", \"SPF_type\", \"Homes\", \"Median\", \"Median (IQR)\", \"Mean (95% CI)\"]\n",
                "    ].set_index([\"HP_Type_3\", \"SPF_type\"])\n",
                "    display(SPF_stats_edited)\n",
                "    edited_median = SPF_stats_edited[\"Median\"]\n",
                "    median = SPF_stats[\"Median\"]\n",
                "    print(f\"{SPF_type} difference (median): {round(edited_median - median,3)[0]}\")\n",
                "    print(\"\")\n",
                "    print(\"\")\n",
                "    print(\"\")"
            ]
        },
        {
            "cell_type": "markdown",
            "metadata": {},
            "source": [
                "#### Headline SPF Statistics\n",
                "The tables below show the headline SPF statistics for each heat pump type in the trial. The table is split by HP_Type, HP_Type_2 and HP_Type_3.\n",
                "\n",
                "HP_Type_2 groups LT_ASHPs and HT_ASHPs together into 'ASHPs'.\n",
                "\n",
                "HP_Type_3 groups hybrids and ASHPs together into 'All_ASHPs'.\n",
                "\n",
                "GSHPs have been removed from the dataset as there are currently only two units with enough data for SPF to be calculated. These GSHPs have SPFH2 values of 2.71 and 4.2, and SPFH4 values of 2.46 and 3.8."
            ]
        },
        {
            "cell_type": "code",
            "execution_count": null,
            "metadata": {},
            "outputs": [],
            "source": [
                "# Optional code\n",
                "\n",
                "# Generate stats on homes that qualify for the threshold\n",
                "af.stats_by_hp_and_SPF_type(homes_within_threshold, rounding=2)[\n",
                "    [\"HP_Type\", \"SPF_type\", \"Homes\", \"Median (IQR)\", \"Mean (95% CI)\"]\n",
                "].set_index([\"HP_Type\", \"SPF_type\"]).sort_values([\"HP_Type\", \"SPF_type\"])"
            ]
        },
        {
            "cell_type": "markdown",
            "metadata": {},
            "source": [
                "ASHPs have a median SPFH4 value of 2.82, Hybrids have a median SPFH4 value of 2.46."
            ]
        },
        {
            "cell_type": "code",
            "execution_count": null,
            "metadata": {},
            "outputs": [],
            "source": [
                "homes_within_threshold = homes_within_threshold.sort_values(\"SPF_type\")"
            ]
        },
        {
            "cell_type": "code",
            "execution_count": null,
            "metadata": {},
            "outputs": [],
            "source": [
                "# Generate stats on homes that qualify for the threshold\n",
                "af.stats_by_hp_and_SPF_type(homes_within_threshold, by=\"HP_Type_2\")[\n",
                "    [\"HP_Type_2\", \"SPF_type\", \"Homes\", \"Median (IQR)\", \"Mean (95% CI)\"]\n",
                "].set_index([\"HP_Type_2\", \"SPF_type\"]).sort_values([\"HP_Type_2\", \"SPF_type\"])"
            ]
        },
        {
            "cell_type": "code",
            "execution_count": null,
            "metadata": {},
            "outputs": [],
            "source": [
                "box_plot_df = homes_within_threshold[\n",
                "    ~(\n",
                "        (homes_within_threshold[\"SPF_type\"] == \"SPFH3\")\n",
                "        & (homes_within_threshold[\"HP_Type\"] == \"Hybrid\")\n",
                "    )\n",
                "].sort_values(\"SPF_type\")\n",
                "\n",
                "px.box(\n",
                "    box_plot_df,\n",
                "    x=\"HP_Type_2\",\n",
                "    y=\"SPF_value\",\n",
                "    color=\"SPF_type\",\n",
                "    width=700,\n",
                "    labels={\"HP_Type_2\": \"Heat Pump Type\", \"SPF_value\": \"SPF\"},\n",
                ")"
            ]
        },
        {
            "cell_type": "code",
            "execution_count": null,
            "metadata": {},
            "outputs": [],
            "source": [
                "box_plot_df_2 = homes_within_threshold[homes_within_threshold[\"HP_Type_2\"] == \"ASHPs\"]\n",
                "\n",
                "px.box(\n",
                "    box_plot_df_2,\n",
                "    x=\"HP_Type\",\n",
                "    y=\"SPF_value\",\n",
                "    color=\"SPF_type\",\n",
                "    width=700,\n",
                "    labels={\"HP_Type_2\": \"Heat Pump Type\", \"SPF_value\": \"SPF\"},\n",
                ")"
            ]
        },
        {
            "cell_type": "code",
            "execution_count": null,
            "metadata": {},
            "outputs": [],
            "source": [
                "# t-test across all SPF types for LT and HT ASHPs\n",
                "\n",
                "lt_ashps = homes_within_threshold[(homes_within_threshold[\"HP_Type\"] == \"LT_ASHP\")][\"SPF_value\"]\n",
                "ht_ashps = homes_within_threshold[(homes_within_threshold[\"HP_Type\"] == \"HT_ASHP\")][\"SPF_value\"]\n",
                "\n",
                "statistic, pvalue = stats.ttest_ind(lt_ashps, ht_ashps)\n",
                "if pvalue < 0.05:\n",
                "    print(\"Significant difference in means between LT and HT ASHPs across all SPF types\")\n",
                "else:\n",
                "    print(\"No significant difference in means between LT and HT ASHPs across all SPF types\")"
            ]
        },
        {
            "cell_type": "code",
            "execution_count": null,
            "metadata": {},
            "outputs": [],
            "source": [
                "# t-test on just SPFH4 for LT and HT ASHPs\n",
                "\n",
                "lt_ashps = homes_within_threshold[\n",
                "    (homes_within_threshold[\"HP_Type\"] == \"LT_ASHP\") & (homes_within_threshold[\"SPF_type\"] == \"SPFH4\")\n",
                "][\"SPF_value\"]\n",
                "ht_ashps = homes_within_threshold[\n",
                "    (homes_within_threshold[\"HP_Type\"] == \"HT_ASHP\") & (homes_within_threshold[\"SPF_type\"] == \"SPFH4\")\n",
                "][\"SPF_value\"]\n",
                "\n",
                "statistic, pvalue = stats.ttest_ind(lt_ashps, ht_ashps)\n",
                "if pvalue < 0.05:\n",
                "    print(\"Significant difference in means between LT and HT ASHPs across SPFH4\")\n",
                "else:\n",
                "    print(\"No significant difference in means between LT and HT ASHPs across SPFH4\")"
            ]
        },
        {
            "cell_type": "code",
            "execution_count": null,
            "metadata": {},
            "outputs": [],
            "source": [
                "# t-test across all SPF types for ASHPs and Hybrids\n",
                "\n",
                "ashps_spf = homes_within_threshold[(homes_within_threshold[\"HP_Type_2\"] == \"ASHPs\")][\"SPF_value\"]\n",
                "hyrbid_spf = homes_within_threshold[(homes_within_threshold[\"HP_Type_2\"] == \"Hybrid\")][\"SPF_value\"]\n",
                "\n",
                "statistic, pvalue = stats.ttest_ind(ashps_spf, hyrbid_spf)\n",
                "if pvalue < 0.05:\n",
                "    print(\"Significant difference in means between ASHPs and hybrids across all SPF types\")\n",
                "else:\n",
                "    print(\"No significant difference in means between ASHPs and hybrids across all SPF types\")"
            ]
        },
        {
            "cell_type": "code",
            "execution_count": null,
            "metadata": {},
            "outputs": [],
            "source": [
                "# Generate stats on All_ASHPs (ASHPs + Hybrids) that qualify for the threshold\n",
                "af.stats_by_hp_and_SPF_type(homes_within_threshold, by=\"HP_Type_3\")[\n",
                "    [\"HP_Type_3\", \"SPF_type\", \"Homes\", \"Median (IQR)\", \"Mean (95% CI)\"]\n",
                "].set_index([\"HP_Type_3\", \"SPF_type\"])"
            ]
        },
        {
            "cell_type": "markdown",
            "metadata": {},
            "source": [
                "The scatter chart below shows the relationship between SPFH2 and total energy output. It also shows the SPF thresholds used and which homes are removed from the analysis (as per the waterfall chart)."
            ]
        },
        {
            "cell_type": "code",
            "execution_count": null,
            "metadata": {},
            "outputs": [],
            "source": [
                "# Generate scatter plot of SPFH2 values vs total energy output\n",
                "cf.SPF_h2_threshold_scatter(\n",
                "    home_summary,\n",
                "    SPF_value_min_threshold,\n",
                "    SPF_value_max_threshold,\n",
                "    scatter_opacity=scatter_opacity,\n",
                ")"
            ]
        },
        {
            "cell_type": "markdown",
            "metadata": {},
            "source": [
                "The chart below shows the frequency distribution of binned SPF for each SPF type and heat pump type in HP_Type_2.\n",
                "\n",
                "<!-- Optional markdown -->"
            ]
        },
        {
            "cell_type": "code",
            "execution_count": null,
            "metadata": {},
            "outputs": [],
            "source": [
                "# # Optional code to create frequency distribution of binned SPF for each SPF type and heat pump type in HP_Type_2\n",
                "\n",
                "# # Bin SPF\n",
                "# fig_data_binned = homes_within_threshold.copy()\n",
                "# fig_data_binned[\"count\"] = 1\n",
                "# fig_data_binned[\"SPF_value_binned\"] = pd.cut(fig_data_binned[\"SPF_value\"], 10, precision=1)\n",
                "# fig_data_binned = fig_data_binned.sort_values(\"SPF_value_binned\", ascending=False)\n",
                "# fig_data_binned[\"SPF_value_binned\"] = fig_data_binned[\"SPF_value_binned\"].astype(str)\n",
                "\n",
                "# # Normalise y axis\n",
                "# fig_histogram_data = pd.DataFrame(\n",
                "#     fig_data_binned.groupby([\"HP_Type_2\", \"SPF_type\", \"SPF_value_binned\"]).count()\n",
                "# ).reset_index()\n",
                "# fig_histogram_data[\"count\"] = fig_histogram_data[\"count\"] / fig_histogram_data.groupby([\"HP_Type_2\", \"SPF_type\"])[\n",
                "#     \"count\"\n",
                "# ].transform(\"sum\")\n",
                "\n",
                "# # Create histogram\n",
                "# fig_histogram = px.histogram(\n",
                "#     fig_histogram_data.sort_values([\"SPF_type\", \"SPF_value_binned\"]),\n",
                "#     x=\"SPF_value_binned\",\n",
                "#     y=\"count\",\n",
                "#     color=\"HP_Type_2\",\n",
                "#     facet_col=\"SPF_type\",\n",
                "#     facet_row=\"HP_Type_2\",\n",
                "#     width=1200,\n",
                "#     height=800,\n",
                "#     title=\"Frequency distribution by binned SPF and heat pump type\",\n",
                "#     labels={\"SPF_value_binned\": \"Binned SPF\"},\n",
                "# )\n",
                "# fig_histogram.update_yaxes(title_text=\"Percentage\")\n",
                "\n",
                "# fig_histogram.update_yaxes(title_text=\"Proportion\")\n",
                "# fig_histogram.show()"
            ]
        },
        {
            "cell_type": "code",
            "execution_count": null,
            "metadata": {},
            "outputs": [],
            "source": [
                "# # Optional code to create frequency distribution of binned SPF for each SPF type and heat pump type in HP_Type_2\n",
                "\n",
                "# # Bin SPF\n",
                "# fig_data_binned = homes_within_threshold.copy()\n",
                "# fig_data_binned[\"count\"] = 1\n",
                "# fig_data_binned[\"SPF_value_binned\"] = pd.cut(fig_data_binned[\"SPF_value\"], 10, precision=1)\n",
                "# fig_data_binned = fig_data_binned.sort_values(\"SPF_value_binned\", ascending=False)\n",
                "# fig_data_binned[\"SPF_value_binned\"] = fig_data_binned[\"SPF_value_binned\"].astype(str)\n",
                "\n",
                "# # Normalise y axis\n",
                "# fig_histogram_data = pd.DataFrame(\n",
                "#     fig_data_binned.groupby([\"HP_Type_3\", \"SPF_type\", \"SPF_value_binned\"]).count()\n",
                "# ).reset_index()\n",
                "# fig_histogram_data[\"count\"] = fig_histogram_data[\"count\"] / fig_histogram_data.groupby([\"HP_Type_3\", \"SPF_type\"])[\n",
                "#     \"count\"\n",
                "# ].transform(\"sum\")\n",
                "\n",
                "# # Create histogram\n",
                "# fig_histogram = px.histogram(\n",
                "#     fig_histogram_data.sort_values([\"SPF_type\", \"SPF_value_binned\"]),\n",
                "#     x=\"SPF_value_binned\",\n",
                "#     y=\"count\",\n",
                "#     color=\"HP_Type_3\",\n",
                "#     facet_col=\"SPF_type\",\n",
                "#     width=1200,\n",
                "#     title=\"Frequency distribution\",\n",
                "#     labels={\"SPF_value_binned\": \"Binned SPF\"},\n",
                "# )\n",
                "# fig_histogram.update_yaxes(title_text=\"Percentage\")\n",
                "# fig_histogram.update_layout(yaxis_tickformat=\"0%\", showlegend=False)\n",
                "# fig_histogram.show()"
            ]
        },
        {
            "cell_type": "markdown",
            "metadata": {},
            "source": [
                "The chart below shows the empirical distribution for SPF for each heat pump type in HP_Type.\n",
                "\n",
                "<!-- Optional markdown -->"
            ]
        },
        {
            "cell_type": "code",
            "execution_count": null,
            "metadata": {},
            "outputs": [],
            "source": [
                "# Optional code to generate empirical cumulative distribution function for SPF by heat pump type\n",
                "px.ecdf(\n",
                "    homes_within_threshold,\n",
                "    x=\"SPF_value\",\n",
                "    color=\"HP_Type\",\n",
                "    height=400,\n",
                "    width=1000,\n",
                "    facet_col=\"SPF_type\",\n",
                "    title=f\"Empirical Distribution\",\n",
                "    labels={\n",
                "        \"SPF_value\": \"SPF\",\n",
                "    },\n",
                ")"
            ]
        },
        {
            "cell_type": "code",
            "execution_count": null,
            "metadata": {},
            "outputs": [],
            "source": [
                "# Optional code to generate empirical cumulative distribution function for SPF by heat pump type\n",
                "fig = px.ecdf(\n",
                "    homes_within_threshold,\n",
                "    x=\"SPF_value\",\n",
                "    color=\"SPF_type\",\n",
                "    height=500,\n",
                "    width=500,\n",
                "    title=f\"Empirical Distribution\",\n",
                "    labels={\"SPF_value\": \"SPF\"},\n",
                ")\n",
                "fig.update_layout(yaxis_tickformat=\"0%\")\n",
                "fig.update_yaxes(title=\"Percentage\")\n",
                "fig.show()"
            ]
        },
        {
            "cell_type": "markdown",
            "metadata": {},
            "source": [
                "The chart below shows the empirical distribution for SPF for each heat pump type in HP_Type_2.\n",
                "\n",
                "The empirical distribution cumulative function (ecdf) charts below shows that Hybrid heat pumps have lower a SPF and a much wider spread of performance vs ASHPs."
            ]
        },
        {
            "cell_type": "code",
            "execution_count": null,
            "metadata": {},
            "outputs": [],
            "source": [
                "# Generate empirical cumulative distribution function for SPF by heat pump type\n",
                "\n",
                "px.ecdf(\n",
                "    homes_within_threshold[\n",
                "        ~(homes_within_threshold[\"HP_Type\"] == \"Hybrid\") | ~(homes_within_threshold[\"SPF_type\"] == \"SPFH3\")\n",
                "    ],\n",
                "    x=\"SPF_value\",\n",
                "    color=\"HP_Type_2\",\n",
                "    height=400,\n",
                "    width=1000,\n",
                "    facet_col=\"SPF_type\",\n",
                "    title=f\"Empirical Distribution\",\n",
                "    labels={\"SPF_value\": \"SPF\"},\n",
                ")"
            ]
        },
        {
            "cell_type": "code",
            "execution_count": null,
            "metadata": {},
            "outputs": [],
            "source": [
                "# Generate empirical cumulative distribution function for SPF by heat pump type\n",
                "px.ecdf(\n",
                "    homes_within_threshold[(homes_within_threshold[\"HP_Type\"] != \"Hybrid\")],\n",
                "    x=\"SPF_value\",\n",
                "    color=\"HP_Type\",\n",
                "    height=400,\n",
                "    width=1000,\n",
                "    facet_col=\"SPF_type\",\n",
                "    title=f\"Empirical Distribution\",\n",
                "    labels={\"SPF_value\": \"SPF\"},\n",
                ")"
            ]
        },
        {
            "cell_type": "markdown",
            "metadata": {},
            "source": [
                "#### Analysis by House Type and Demographic\n",
                "\n",
                "The analysis of variations in performance below is based on SPFH4, given that this provides the best measure of overall heat pump system performance (and is least sensitive to data quality issues). This analysis has been repeated for SPFH2 but is not shown in full here (for brevity) – any significant differences between the conclusions are highlighted in the commentary below.\n",
                "\n",
                "The analysis is also focused on ASHPs, as they are the only heat pump type with enough data to further segment.\n",
                "\n",
                "##### Does House Type affect SPFH4?"
            ]
        },
        {
            "cell_type": "markdown",
            "metadata": {},
            "source": [
                "The impact of house type is not entirely clear, however we can say with moderate confidence that detached homes have a statistically significantly higher SPF compared to semi-detached homes."
            ]
        },
        {
            "cell_type": "code",
            "execution_count": null,
            "metadata": {},
            "outputs": [],
            "source": [
                "# Filter for ASHPs\n",
                "# The analysis by sub-group (house type, income, etc.) is focused on ASHPs, as they are the only heat pump type with enough data to further segment.\n",
                "ashps_within_threshold = homes_within_threshold[homes_within_threshold[\"HP_Type_2\"] == \"ASHPs\"]\n",
                "\n",
                "# Filter for SPFH4 only, as it represents the broadest system boundary\n",
                "ashps_within_threshold = ashps_within_threshold[ashps_within_threshold[\"SPF_type\"] == \"SPFH4\"]"
            ]
        },
        {
            "cell_type": "code",
            "execution_count": null,
            "metadata": {},
            "outputs": [],
            "source": [
                "# Generate bar graph showing mean heat energy output by house type\n",
                "\n",
                "homes_within_threshold_grouped = (\n",
                "    homes_within_threshold.groupby(\"House_Form\")[\"window_Total_Energy_Output\"].mean().sort_values() / 365\n",
                ")\n",
                "\n",
                "# Re-order in logical order\n",
                "homes_within_threshold_grouped = pd.concat(\n",
                "    [\n",
                "        homes_within_threshold_grouped[homes_within_threshold_grouped.index == \"Detached\"],\n",
                "        homes_within_threshold_grouped[homes_within_threshold_grouped.index == \"Semi-Detached\"],\n",
                "        homes_within_threshold_grouped[homes_within_threshold_grouped.index == \"End-Terrace\"],\n",
                "        homes_within_threshold_grouped[homes_within_threshold_grouped.index == \"Mid-Terrace\"],\n",
                "        homes_within_threshold_grouped[homes_within_threshold_grouped.index == \"Flat\"],\n",
                "    ]\n",
                ")\n",
                "\n",
                "px.bar(\n",
                "    homes_within_threshold_grouped,\n",
                "    y=\"window_Total_Energy_Output\",\n",
                "    width=600,\n",
                "    labels={\"window_Total_Energy_Output\": \"Mean Heat Energy Output (kWh/day)\", \"House_Form\": \"House Type\"},\n",
                ") "
            ]
        },
        {
            "cell_type": "markdown",
            "metadata": {},
            "source": [
                "The table below shows SPF statistics for each house form and heat pump type in HP_Type_2."
            ]
        },
        {
            "cell_type": "code",
            "execution_count": null,
            "metadata": {},
            "outputs": [],
            "source": [
                "# Create a blank DataFrame for the loop\n",
                "stats_by_house_type = []\n",
                "\n",
                "# Calculate statistics for each house type\n",
                "for house_type in ashps_within_threshold[\"House_Form\"].unique():\n",
                "    home_summary_split = ashps_within_threshold[ashps_within_threshold[\"House_Form\"] == house_type]\n",
                "    df = af.stats_by_hp_and_SPF_type(home_summary_split, by=\"HP_Type_2\")\n",
                "    df[\"House_Type\"] = house_type\n",
                "    df = df.set_index(\"House_Type\")\n",
                "    stats_by_house_type.append(df)\n",
                "stats_by_house_type = pd.concat(stats_by_house_type)\n",
                "\n",
                "# Reorder DataFrame to logical order\n",
                "stats_by_house_type = pd.concat(\n",
                "    [\n",
                "        stats_by_house_type[stats_by_house_type.index == \"Detached\"],\n",
                "        stats_by_house_type[stats_by_house_type.index == \"Semi-Detached\"],\n",
                "        stats_by_house_type[stats_by_house_type.index == \"End-Terrace\"],\n",
                "        stats_by_house_type[stats_by_house_type.index == \"Mid-Terrace\"],\n",
                "        stats_by_house_type[stats_by_house_type.index == \"Flat\"],\n",
                "    ]\n",
                ").sort_values([\"HP_Type_2\"])\n",
                "\n",
                "# View outputs\n",
                "stats_by_house_type[[\"HP_Type_2\", \"SPF_type\", \"Homes\", \"Median (IQR)\", \"Mean (95% CI)\"]].reset_index().set_index(\n",
                "    [\"HP_Type_2\", \"House_Type\", \"SPF_type\"]\n",
                ")"
            ]
        },
        {
            "cell_type": "code",
            "execution_count": null,
            "metadata": {},
            "outputs": [],
            "source": [
                "# Calculate confidence interval\n",
                "stats_by_house_type[\"half_interval\"] = stats_by_house_type[\"Mean\"] - stats_by_house_type[\"Mean CI Lower\"]\n",
                "\n",
                "# Manually set y-axis range\n",
                "y_range_min = 1.8\n",
                "y_range_max = 3.8\n",
                "\n",
                "# Generate bar graph of means and confidence intervals for each group\n",
                "fig = px.bar(\n",
                "    stats_by_house_type,\n",
                "    x=stats_by_house_type.index,\n",
                "    y=\"Mean\",\n",
                "    width=600,\n",
                "    range_y=[y_range_min, y_range_max],\n",
                "    error_y=stats_by_house_type[\"half_interval\"],\n",
                "    title=\"ASHPs Mean SPFH4 with 95% Confidence Intervals\",\n",
                "    labels={\"Mean\": \"Mean SPFH4\", \"House_Type\": \"House Type\"},\n",
                "    hover_data=[\"Homes\"],\n",
                ")\n",
                "\n",
                "# Add n= to graph\n",
                "fig.add_trace(\n",
                "    go.Line(\n",
                "        x=stats_by_house_type.index,\n",
                "        y=[y_range_min] * stats_by_house_type.index.size,\n",
                "        mode=\"markers+text\",\n",
                "        text=\"n=\" + stats_by_house_type[\"Homes\"].map(str),\n",
                "        textposition=\"top center\",\n",
                "        textfont_color=\"white\",\n",
                "        marker_opacity=0,\n",
                "        textfont_size=10,\n",
                "    )\n",
                ")\n",
                "\n",
                "fig.update_layout(showlegend=False)"
            ]
        },
        {
            "cell_type": "code",
            "execution_count": null,
            "metadata": {},
            "outputs": [],
            "source": [
                "px.scatter(\n",
                "    ashps_within_threshold[\n",
                "        (ashps_within_threshold[\"House_Form\"] == \"Detached\") | (ashps_within_threshold[\"House_Form\"] == \"Mid-Terrace\")\n",
                "    ],\n",
                "    x=\"Total_Floor_Area\",\n",
                "    y=\"SPF_value\",\n",
                "    width=800,\n",
                "    trendline=\"ols\",\n",
                ")"
            ]
        },
        {
            "cell_type": "markdown",
            "metadata": {},
            "source": [
                "Groups are normally distributed and have equal variances."
            ]
        },
        {
            "cell_type": "code",
            "execution_count": null,
            "metadata": {},
            "outputs": [],
            "source": [
                "# Begin statistical testing for difference in means over house types\n",
                "\n",
                "# Filter DataFrame for necessary columns\n",
                "house_form_data = ashps_within_threshold[[\"House_Form\", \"SPF_value\"]]\n",
                "\n",
                "# Create a DataFrame for each group\n",
                "data_detached = house_form_data[house_form_data[\"House_Form\"] == \"Detached\"][\"SPF_value\"]\n",
                "data_semi = house_form_data[house_form_data[\"House_Form\"] == \"Semi-Detached\"][\"SPF_value\"]\n",
                "data_end = house_form_data[house_form_data[\"House_Form\"] == \"End-Terrace\"][\"SPF_value\"]\n",
                "data_mid = house_form_data[house_form_data[\"House_Form\"] == \"Mid-Terrace\"][\"SPF_value\"]\n",
                "data_flat = house_form_data[house_form_data[\"House_Form\"] == \"Flat\"][\"SPF_value\"]\n",
                "\n",
                "# Shapiro-Wilk non-parametric test for normality\n",
                "# h0 = population is normally distributed\n",
                "for house_form in house_form_data[\"House_Form\"].unique():\n",
                "    print(house_form)\n",
                "    statistic, p_value = stats.shapiro(house_form_data[house_form_data[\"House_Form\"] == house_form][\"SPF_value\"])\n",
                "    if p_value < 0.05:\n",
                "        print(\"Shapiro-Wilk: data is not normally distributed\")\n",
                "    else:\n",
                "        print(\"Shapiro-Wilk: data is normally distributed\")\n",
                "\n",
                "# Levene's non-parametric test for homogeneity / homoscedasticity of variances\n",
                "# h0 = population has equal variances\n",
                "stat, p_value = stats.levene(\n",
                "    data_detached,\n",
                "    data_semi,\n",
                "    data_end,\n",
                "    data_mid,\n",
                "    data_flat,\n",
                "    center=\"mean\",\n",
                "    proportiontocut=0.05,\n",
                ")\n",
                "if p_value < 0.05:\n",
                "    print(\"Levene's test: data has unequal variances\")\n",
                "else:\n",
                "    print(\"Levene's test: data has equal variances\")\n",
                "\n",
                "data_qq_plot = stats.probplot(house_form_data[\"SPF_value\"], dist=\"norm\", plot=pylab)"
            ]
        },
        {
            "cell_type": "markdown",
            "metadata": {},
            "source": [
                "We can therefore conduct the ANOVA test. The test results indicate there are groups with significantly different means."
            ]
        },
        {
            "cell_type": "code",
            "execution_count": null,
            "metadata": {},
            "outputs": [],
            "source": [
                "# ANOVA parametric test to compare the means of 2 or more groups\n",
                "# h0 = there are no groups with significantly different means\n",
                "# Assumptions: normality within groups, equal variances\n",
                "statistic, p_value = stats.f_oneway(data_detached, data_semi, data_end, data_mid, data_flat)\n",
                "if p_value < 0.05:\n",
                "    print(\"ANOVA test: There are groups with significantly difference means\")\n",
                "else:\n",
                "    print(\"ANOVA test: There are no groups with significantly different means\")"
            ]
        },
        {
            "cell_type": "markdown",
            "metadata": {},
            "source": [
                "We check which groups have significantly difference means using Tukey's HSD test."
            ]
        },
        {
            "cell_type": "code",
            "execution_count": null,
            "metadata": {},
            "outputs": [],
            "source": [
                "# Tukey's HSD parametric test to test equality of means over multiple groups\n",
                "# h0 = there is no significant different in means over the paired group\n",
                "# Assumptions: normality within groups\n",
                "Results = pairwise_tukeyhsd(endog=house_form_data[\"SPF_value\"], groups=house_form_data[\"House_Form\"], alpha=0.05)\n",
                "print(Results)"
            ]
        },
        {
            "cell_type": "markdown",
            "metadata": {},
            "source": [
                "The following paired groups have significantly different means."
            ]
        },
        {
            "cell_type": "code",
            "execution_count": null,
            "metadata": {},
            "outputs": [],
            "source": [
                "Significant_results = pd.DataFrame(data=Results._results_table.data[1:], columns=Results._results_table.data[0])\n",
                "Significant_results[Significant_results[\"p-adj\"] < 0.05][[\"group1\", \"group2\"]].reset_index(drop=True)"
            ]
        },
        {
            "cell_type": "code",
            "execution_count": null,
            "metadata": {},
            "outputs": [],
            "source": [
                "ashps_within_threshold = pd.concat(\n",
                "    [\n",
                "        ashps_within_threshold[ashps_within_threshold[\"House_Form\"] == \"Detached\"],\n",
                "        ashps_within_threshold[ashps_within_threshold[\"House_Form\"] == \"Semi-Detached\"],\n",
                "        ashps_within_threshold[ashps_within_threshold[\"House_Form\"] == \"End-Terrace\"],\n",
                "        ashps_within_threshold[ashps_within_threshold[\"House_Form\"] == \"Mid-Terrace\"],\n",
                "        ashps_within_threshold[ashps_within_threshold[\"House_Form\"] == \"Flat\"],\n",
                "    ]\n",
                ")\n",
                "\n",
                "px.histogram(\n",
                "    ashps_within_threshold,\n",
                "    x=\"House_Form\",\n",
                "    color=\"HP_Type\",\n",
                "    width=700,\n",
                "    labels={\"House_Form\": \"House Type\"},\n",
                "    barnorm=\"percent\",\n",
                ")"
            ]
        },
        {
            "cell_type": "code",
            "execution_count": null,
            "metadata": {},
            "outputs": [],
            "source": [
                "px.histogram(\n",
                "    ashps_within_threshold,\n",
                "    x=\"House_Form\",\n",
                "    color=\"HP_Refrigerant\",\n",
                "    width=700,\n",
                "    labels={\"House_Form\": \"House Type\"},\n",
                "    barnorm=\"percent\",\n",
                ")"
            ]
        },
        {
            "cell_type": "markdown",
            "metadata": {},
            "source": [
                "##### Does Household Income affect SPFH4?"
            ]
        },
        {
            "cell_type": "markdown",
            "metadata": {},
            "source": [
                "We can say with moderate confidence that household income does not have a significant impact on the mean SPF value amongst those who provided details of their income.\n",
                "\n",
                "The table below shows SPF statistics for each house form and heat pump type."
            ]
        },
        {
            "cell_type": "code",
            "execution_count": null,
            "metadata": {},
            "outputs": [],
            "source": [
                "# Create a blank DataFrame for the loop\n",
                "stats_by_income_group = []\n",
                "\n",
                "# Calculate statistics for each income group\n",
                "for income_group in ashps_within_threshold[\"House_Income\"].unique():\n",
                "    home_summary_split = ashps_within_threshold[ashps_within_threshold[\"House_Income\"] == income_group]\n",
                "    df = af.stats_by_hp_and_SPF_type(home_summary_split, by=\"HP_Type_2\")\n",
                "    df[\"House_Income\"] = income_group\n",
                "    df = df.set_index(\"House_Income\")\n",
                "    stats_by_income_group.append(df)\n",
                "\n",
                "# Reorder DataFrame to logical order\n",
                "stats_by_income_group = pd.concat(stats_by_income_group).sort_values([\"HP_Type_2\", \"House_Income\"])\n",
                "\n",
                "# View outputs\n",
                "stats_by_income_group[[\"HP_Type_2\", \"SPF_type\", \"Homes\", \"Median (IQR)\", \"Mean (95% CI)\"]].reset_index().set_index(\n",
                "    [\"House_Income\", \"HP_Type_2\", \"SPF_type\"]\n",
                ")"
            ]
        },
        {
            "cell_type": "code",
            "execution_count": null,
            "metadata": {},
            "outputs": [],
            "source": [
                "# Calculate confidence interval\n",
                "stats_by_income_group[\"half_interval\"] = (\n",
                "    stats_by_income_group[\"Mean\"] - stats_by_income_group[\"Mean CI Lower\"]\n",
                ").sort_values()\n",
                "\n",
                "y_range_min = 1.8\n",
                "y_range_max = 4\n",
                "\n",
                "# Generate bar graph of means and confidence intervals for each group\n",
                "fig = px.bar(\n",
                "    stats_by_income_group,\n",
                "    x=stats_by_income_group.index,\n",
                "    y=\"Mean\",\n",
                "    width=600,\n",
                "    range_y=[y_range_min, y_range_max],\n",
                "    error_y=stats_by_income_group[\"half_interval\"],\n",
                "    title=\"ASHPs Mean SPFH4 with 95% Confidence Intervals\",\n",
                "    labels={\"Mean\": \"Mean SPFH4\", \"House_Income\": \"Household Income (£)\"},\n",
                "    hover_data=[\"Homes\"],\n",
                ")\n",
                "\n",
                "fig.add_trace(\n",
                "    go.Line(\n",
                "        x=stats_by_income_group.index,\n",
                "        y=[y_range_min] * stats_by_income_group.index.size,\n",
                "        mode=\"markers+text\",\n",
                "        text=\"n=\" + stats_by_income_group[\"Homes\"].map(str),\n",
                "        textposition=\"top center\",\n",
                "        textfont_color=\"white\",\n",
                "        textfont_size=10,\n",
                "        marker_opacity=0,\n",
                "    )\n",
                ")\n",
                "fig.update_layout(showlegend=False)\n",
                "fig.show()"
            ]
        },
        {
            "cell_type": "code",
            "execution_count": null,
            "metadata": {},
            "outputs": [],
            "source": [
                "# Begin statistical testing for difference in means over household incomes\n",
                "\n",
                "# Filter DataFrame for necessary columns\n",
                "household_income_data = ashps_within_threshold[[\"House_Income\", \"SPF_value\"]]\n",
                "\n",
                "# Create a DataFrame for each group\n",
                "data_income_1 = household_income_data[household_income_data[\"House_Income\"] == \"0 - 12,500\"][\"SPF_value\"]\n",
                "data_income_2 = household_income_data[household_income_data[\"House_Income\"] == \"12,501 - 16,200\"][\"SPF_value\"]\n",
                "data_income_3 = household_income_data[household_income_data[\"House_Income\"] == \"16,201 - 20,000\"][\"SPF_value\"]\n",
                "data_income_4 = household_income_data[household_income_data[\"House_Income\"] == \"20,001 - 25,000\"][\"SPF_value\"]\n",
                "data_income_5 = household_income_data[household_income_data[\"House_Income\"] == \"25,001 - 30,000\"][\"SPF_value\"]\n",
                "data_income_6 = household_income_data[household_income_data[\"House_Income\"] == \"30,001 - 40,000\"][\"SPF_value\"]\n",
                "data_income_7 = household_income_data[household_income_data[\"House_Income\"] == \"40,001 - 50,000\"][\"SPF_value\"]\n",
                "data_income_8 = household_income_data[household_income_data[\"House_Income\"] == \"50,001+\"][\"SPF_value\"]\n",
                "data_income_9 = household_income_data[household_income_data[\"House_Income\"] == \"Prefer not to say\"][\"SPF_value\"]\n",
                "\n",
                "# Shapiro-Wilk non-parametric test for normality\n",
                "# h0 = population is normally distributed\n",
                "for house_income_group in ashps_within_threshold[\"House_Income\"].sort_values().unique():\n",
                "    print(house_income_group)\n",
                "    test_data = household_income_data[household_income_data[\"House_Income\"] == house_income_group]\n",
                "    statistic, p_value = stats.shapiro(test_data[\"SPF_value\"])\n",
                "    if p_value < 0.05:\n",
                "        print(\"Shapiro-Wilk test: data is not normally distributed\")\n",
                "    else:\n",
                "        print(\"Shapiro-Wilk test: data is normally distributed\")\n",
                "\n",
                "# Levene's non-parametric test for homogeneity / homoscedasticity of variances\n",
                "# h0 = population has equal variances\n",
                "stat, p_value = stats.levene(\n",
                "    data_income_1,\n",
                "    data_income_2,\n",
                "    data_income_3,\n",
                "    data_income_4,\n",
                "    data_income_5,\n",
                "    data_income_6,\n",
                "    data_income_7,\n",
                "    data_income_8,\n",
                "    data_income_9,\n",
                "    center=\"mean\",\n",
                "    proportiontocut=0.05,\n",
                ")\n",
                "if p_value < 0.05:\n",
                "    print(\"Levene's test: data has unequal variances\")\n",
                "else:\n",
                "    print(\"Levene's test: data has equal variances\")\n",
                "\n",
                "data_qq_plot = stats.probplot(household_income_data[\"SPF_value\"], dist=\"norm\", plot=pylab)"
            ]
        },
        {
            "cell_type": "markdown",
            "metadata": {},
            "source": [
                "We can therefore conduct the ANOVA test. The test results indicate there are no groups with significantly different means."
            ]
        },
        {
            "cell_type": "code",
            "execution_count": null,
            "metadata": {},
            "outputs": [],
            "source": [
                "# ANOVA parametric test to compare the emans of 2 or more groups\n",
                "# h0 = there are no groups with significantly different means\n",
                "# Assumptions: normality within groups, equal variances\n",
                "statistic, p_value = stats.f_oneway(\n",
                "    data_income_1,\n",
                "    data_income_2,\n",
                "    data_income_3,\n",
                "    data_income_4,\n",
                "    data_income_5,\n",
                "    data_income_6,\n",
                "    data_income_7,\n",
                "    data_income_8,\n",
                "    data_income_9,\n",
                ")\n",
                "if p_value < 0.05:\n",
                "    print(\"ANOVA test: There are groups with significantly different in means\")\n",
                "else:\n",
                "    print(\"ANOVA test: There are no groups with significantly different means\")"
            ]
        },
        {
            "cell_type": "markdown",
            "metadata": {},
            "source": [
                "##### Does House Age affect SPFH4?"
            ]
        },
        {
            "cell_type": "markdown",
            "metadata": {},
            "source": [
                "- We can say with moderate confidence that house age does not have a significant impact on the mean SPF value.\n",
                "\n",
                "The table below shows SPF statistics for each house age and heat pump type in HP_Type_2."
            ]
        },
        {
            "cell_type": "code",
            "execution_count": null,
            "metadata": {},
            "outputs": [],
            "source": [
                "# Create a blank DataFrame for the loop\n",
                "stats_by_house_age = []\n",
                "\n",
                "# Calculate statistics for each house age group\n",
                "for house_age in ashps_within_threshold[\"House_Age_Cleaned\"].unique():\n",
                "    home_summary_split = ashps_within_threshold[ashps_within_threshold[\"House_Age_Cleaned\"] == house_age]\n",
                "    df = af.stats_by_hp_and_SPF_type(home_summary_split, by=\"HP_Type_2\")\n",
                "    df[\"House_Age_Cleaned\"] = house_age\n",
                "    df = df.set_index(\"House_Age_Cleaned\")\n",
                "    stats_by_house_age.append(df)\n",
                "\n",
                "# Reorder DataFrame to logical order\n",
                "stats_by_house_age = pd.concat(stats_by_house_age)\n",
                "stats_by_house_age = pd.concat(\n",
                "    [\n",
                "        stats_by_house_age[stats_by_house_age.index == \"Pre-1919\"],\n",
                "        stats_by_house_age[stats_by_house_age.index == \"1919-1944\"],\n",
                "        stats_by_house_age[stats_by_house_age.index == \"1945-1964\"],\n",
                "        stats_by_house_age[stats_by_house_age.index == \"1965-1980\"],\n",
                "        stats_by_house_age[stats_by_house_age.index == \"1981-1990\"],\n",
                "        stats_by_house_age[stats_by_house_age.index == \"1991-2000\"],\n",
                "        stats_by_house_age[stats_by_house_age.index == \"2001+\"],\n",
                "    ]\n",
                ")\n",
                "\n",
                "# View outputs\n",
                "stats_by_house_age[[\"HP_Type_2\", \"SPF_type\", \"Homes\", \"Median (IQR)\", \"Mean (95% CI)\"]].reset_index().rename(\n",
                "    {\"House_Age_Cleaned\": \"House_Age\"}, axis=1\n",
                ").set_index([\"House_Age\", \"HP_Type_2\", \"SPF_type\"])"
            ]
        },
        {
            "cell_type": "code",
            "execution_count": null,
            "metadata": {},
            "outputs": [],
            "source": [
                "# Calculate confidence interval\n",
                "stats_by_house_age[\"half_interval\"] = stats_by_house_age[\"Mean\"] - stats_by_house_age[\"Mean CI Lower\"]\n",
                "\n",
                "y_range_min = 2\n",
                "y_range_max = 3.2\n",
                "\n",
                "# Generate bar graph of means and confidence intervals for each group\n",
                "fig = px.bar(\n",
                "    stats_by_house_age,\n",
                "    x=stats_by_house_age.index,\n",
                "    y=\"Mean\",\n",
                "    width=600,\n",
                "    range_y=[y_range_min, y_range_max],\n",
                "    error_y=stats_by_house_age[\"half_interval\"],\n",
                "    title=\"ASHPs Mean SPFH4 with 95% Confidence Intervals\",\n",
                "    labels={\"Mean\": \"Mean SPFH4\", \"House_Age_Cleaned\": \"House Age\"},\n",
                "    hover_data=[\"Homes\"],\n",
                ")\n",
                "\n",
                "fig.add_trace(\n",
                "    go.Line(\n",
                "        x=stats_by_house_age.index,\n",
                "        y=[y_range_min] * stats_by_house_age.index.size,\n",
                "        mode=\"markers+text\",\n",
                "        text=\"n=\" + stats_by_house_age[\"Homes\"].map(str),\n",
                "        textposition=\"top center\",\n",
                "        textfont_color=\"white\",\n",
                "        marker_opacity=0,\n",
                "        textfont_size=10,\n",
                "    )\n",
                ")\n",
                "fig.update_layout(showlegend=False)\n",
                "fig.show()"
            ]
        },
        {
            "cell_type": "code",
            "execution_count": null,
            "metadata": {},
            "outputs": [],
            "source": [
                "# Begin statistical testing for difference in means over household incomes\n",
                "\n",
                "# Filter DataFrame for necessary columns\n",
                "house_age_data = ashps_within_threshold[[\"House_Age_Cleaned\", \"SPF_value\"]]\n",
                "\n",
                "# Create a DataFrame for each group\n",
                "data_age_1 = house_age_data[house_age_data[\"House_Age_Cleaned\"] == \"1919-1944\"][\"SPF_value\"]\n",
                "data_age_2 = house_age_data[house_age_data[\"House_Age_Cleaned\"] == \"1945-1964\"][\"SPF_value\"]\n",
                "data_age_3 = house_age_data[house_age_data[\"House_Age_Cleaned\"] == \"1965-1980\"][\"SPF_value\"]\n",
                "data_age_4 = house_age_data[house_age_data[\"House_Age_Cleaned\"] == \"1981-1990\"][\"SPF_value\"]\n",
                "data_age_5 = house_age_data[house_age_data[\"House_Age_Cleaned\"] == \"1991-2000\"][\"SPF_value\"]\n",
                "data_age_6 = house_age_data[house_age_data[\"House_Age_Cleaned\"] == \"2001+\"][\"SPF_value\"]\n",
                "data_age_7 = house_age_data[house_age_data[\"House_Age_Cleaned\"] == \"Pre-1919\"][\"SPF_value\"]\n",
                "\n",
                "# Shapiro-Wilk non-parametric test for normality\n",
                "# h0 = population is normally distributed\n",
                "for house_age_group in ashps_within_threshold[\"House_Age_Cleaned\"].sort_values().unique():\n",
                "    print(house_age_group)\n",
                "    test_data = house_age_data[house_age_data[\"House_Age_Cleaned\"] == house_age_group]\n",
                "    statistic, p_value = stats.shapiro(test_data[\"SPF_value\"])\n",
                "    if p_value < 0.05:\n",
                "        print(\"Shapiro-Wilk test: data is not normally distributed\")\n",
                "    else:\n",
                "        print(\"Shapiro-Wilk test: data is normally distributed\")\n",
                "\n",
                "# Levene's non-parametric test for homogeneity / homoscedasticity of variances\n",
                "# h0 = population has equal variances\n",
                "stat, p_value = stats.levene(\n",
                "    data_age_1,\n",
                "    data_age_2,\n",
                "    data_age_3,\n",
                "    data_age_4,\n",
                "    data_age_5,\n",
                "    data_age_6,\n",
                "    data_age_7,\n",
                "    center=\"mean\",\n",
                "    proportiontocut=0.05,\n",
                ")\n",
                "if p_value < 0.05:\n",
                "    print(\"Levene's test: data has unequal variances\")\n",
                "else:\n",
                "    print(\"Levene's test: data has equal variances\")\n",
                "\n",
                "data_qq_plot = stats.probplot(house_age_data[\"SPF_value\"], dist=\"norm\", plot=pylab)"
            ]
        },
        {
            "cell_type": "markdown",
            "metadata": {},
            "source": [
                "We can therefore conduct the ANOVA test. The test results indicate there are no groups with significantly different means."
            ]
        },
        {
            "cell_type": "code",
            "execution_count": null,
            "metadata": {},
            "outputs": [],
            "source": [
                "# ANOVA parametric test to compare the emans of 2 or more groups\n",
                "# h0 = there are no groups with significantly different means\n",
                "# Assumptions: normality within groups, equal variances\n",
                "statistic, p_value = stats.f_oneway(data_age_1, data_age_2, data_age_3, data_age_4, data_age_5, data_age_6, data_age_7)\n",
                "if p_value < 0.05:\n",
                "    print(\"ANOVA test: There are groups with significantly different in means\")\n",
                "else:\n",
                "    print(\"ANOVA test: There are no groups with significantly different means\")"
            ]
        },
        {
            "cell_type": "markdown",
            "metadata": {},
            "source": [
                "##### Does socioeconomic group affect SPFH4?"
            ]
        },
        {
            "cell_type": "code",
            "execution_count": null,
            "metadata": {},
            "outputs": [],
            "source": [
                "# Create a blank DataFrame for the loop\n",
                "stats_by_socio_group = []\n",
                "\n",
                "# Calculate statistics for each income group\n",
                "for income_group in ashps_within_threshold[\"Social_Group\"].unique():\n",
                "    home_summary_split = ashps_within_threshold[ashps_within_threshold[\"Social_Group\"] == income_group]\n",
                "    df = af.stats_by_hp_and_SPF_type(home_summary_split, by=\"HP_Type_2\")\n",
                "    df[\"Social_Group\"] = income_group\n",
                "    df = df.set_index(\"Social_Group\")\n",
                "    stats_by_socio_group.append(df)\n",
                "\n",
                "# Reorder DataFrame to logical order\n",
                "stats_by_socio_group = pd.concat(stats_by_socio_group).sort_values([\"HP_Type_2\", \"Social_Group\"])\n",
                "\n",
                "# View outputs\n",
                "stats_by_socio_group[[\"HP_Type_2\", \"SPF_type\", \"Homes\", \"Median (IQR)\", \"Mean (95% CI)\"]].reset_index().set_index(\n",
                "    [\"Social_Group\", \"HP_Type_2\", \"SPF_type\"]\n",
                ")"
            ]
        },
        {
            "cell_type": "code",
            "execution_count": null,
            "metadata": {},
            "outputs": [],
            "source": [
                "# Calculate confidence interval\n",
                "stats_by_socio_group[\"half_interval\"] = (\n",
                "    stats_by_socio_group[\"Mean\"] - stats_by_socio_group[\"Mean CI Lower\"]\n",
                ").sort_values()\n",
                "\n",
                "y_range_min = 2.5\n",
                "y_range_max = 3\n",
                "\n",
                "# Generate bar graph of means and confidence intervals for each group\n",
                "fig = px.bar(\n",
                "    stats_by_socio_group,\n",
                "    x=stats_by_socio_group.index,\n",
                "    y=\"Mean\",\n",
                "    width=600,\n",
                "    range_y=[y_range_min, y_range_max],\n",
                "    error_y=stats_by_socio_group[\"half_interval\"],\n",
                "    title=\"ASHPs Mean SPFH4 with 95% Confidence Intervals\",\n",
                "    labels={\"Mean\": \"Mean SPFH4\", \"Social_Group\": \"Socio-economic Group\"},\n",
                "    hover_data=[\"Homes\"],\n",
                ")\n",
                "\n",
                "fig.add_trace(\n",
                "    go.Line(\n",
                "        x=stats_by_socio_group.index,\n",
                "        y=[y_range_min] * stats_by_socio_group.index.size,\n",
                "        mode=\"markers+text\",\n",
                "        text=\"n=\" + stats_by_socio_group[\"Homes\"].map(str),\n",
                "        textposition=\"top center\",\n",
                "        textfont_color=\"white\",\n",
                "        textfont_size=10,\n",
                "        marker_opacity=0,\n",
                "    )\n",
                ")\n",
                "fig.update_layout(showlegend=False)\n",
                "fig.show()"
            ]
        },
        {
            "cell_type": "code",
            "execution_count": null,
            "metadata": {},
            "outputs": [],
            "source": [
                "# Begin statistical testing for difference in means over household incomes\n",
                "\n",
                "# Filter DataFrame for necessary columns\n",
                "house_socio_data = ashps_within_threshold[[\"Social_Group\", \"SPF_value\"]]\n",
                "\n",
                "# Create a DataFrame for each group\n",
                "data_socio_1 = house_socio_data[house_socio_data[\"Social_Group\"] == \"AB\"][\"SPF_value\"]\n",
                "data_socio_2 = house_socio_data[house_socio_data[\"Social_Group\"] == \"C1\"][\"SPF_value\"]\n",
                "data_socio_3 = house_socio_data[house_socio_data[\"Social_Group\"] == \"C2\"][\"SPF_value\"]\n",
                "data_socio_4 = house_socio_data[house_socio_data[\"Social_Group\"] == \"DE\"][\"SPF_value\"]\n",
                "\n",
                "# Shapiro-Wilk non-parametric test for normality\n",
                "# h0 = population is normally distributed\n",
                "for house_age_group in ashps_within_threshold[\"Social_Group\"].sort_values().unique():\n",
                "    print(house_age_group)\n",
                "    test_data = house_socio_data[house_socio_data[\"Social_Group\"] == house_age_group]\n",
                "    statistic, p_value = stats.shapiro(test_data[\"SPF_value\"])\n",
                "    if p_value < 0.05:\n",
                "        print(\"Shapiro-Wilk test: data is not normally distributed\")\n",
                "    else:\n",
                "        print(\"Shapiro-Wilk test: data is normally distributed\")\n",
                "\n",
                "# Levene's non-parametric test for homogeneity / homoscedasticity of variances\n",
                "# h0 = population has equal variances\n",
                "stat, p_value = stats.levene(\n",
                "    data_socio_1,\n",
                "    data_socio_2,\n",
                "    data_socio_3,\n",
                "    data_socio_4,\n",
                "    center=\"mean\",\n",
                "    proportiontocut=0.05,\n",
                ")\n",
                "if p_value < 0.05:\n",
                "    print(\"Levene's test: data has unequal variances\")\n",
                "else:\n",
                "    print(\"Levene's test: data has equal variances\")\n",
                "\n",
                "data_qq_plot = stats.probplot(house_socio_data[\"SPF_value\"], dist=\"norm\", plot=pylab)"
            ]
        },
        {
            "cell_type": "code",
            "execution_count": null,
            "metadata": {},
            "outputs": [],
            "source": [
                "# ANOVA parametric test to compare the emans of 2 or more groups\n",
                "# h0 = there are no groups with significantly different means\n",
                "# Assumptions: normality within groups, equal variances\n",
                "statistic, p_value = stats.f_oneway(data_socio_1, data_socio_2, data_socio_3, data_socio_4)\n",
                "if p_value < 0.05:\n",
                "    print(\"ANOVA test: There are groups with significantly different in means\")\n",
                "else:\n",
                "    print(\"ANOVA test: There are no groups with significantly different means\")"
            ]
        },
        {
            "cell_type": "markdown",
            "metadata": {},
            "source": [
                "##### Do HT_ASHPs perform differently to LT_ASHPs?"
            ]
        },
        {
            "cell_type": "markdown",
            "metadata": {},
            "source": [
                "HT_ASHPs spend much of their time operating at similar temperatures as LT_ASHPs. HT_ASHPs are not observed to perform worse than LT_ASHPs.\n",
                "\n",
                "We choose to focus on mean flow temperature, rather than median or mode, as this best accounts for both single-modal and bi-model frequency distributions."
            ]
        },
        {
            "cell_type": "code",
            "execution_count": null,
            "metadata": {},
            "outputs": [],
            "source": [
                "# Remove hybrid heat pumps\n",
                "flow_temp_data = homes_within_threshold[homes_within_threshold[\"HP_Type_2\"] != \"Hybrid\"]"
            ]
        },
        {
            "cell_type": "markdown",
            "metadata": {},
            "source": [
                "The vast majority of HT_ASHPs use a different refrigerant versus LT_ASHPs, whose performance differs greatly to the refrigerants used in LT_ASHPs. The lower performance of LT_ASHPs can therefore be attributed to this this rather than the differences in the temperatures they're operating at.\n",
                "\n",
                "The table below shows the SPF of each refrigerant across ASHPs."
            ]
        },
        {
            "cell_type": "code",
            "execution_count": null,
            "metadata": {},
            "outputs": [],
            "source": [
                "stats_by_refrigerant = af.stats_by_hp_and_SPF_type(flow_temp_data, by=\"HP_Refrigerant\").set_index([\"HP_Refrigerant\"])\n",
                "stats_by_refrigerant[stats_by_refrigerant[\"SPF_type\"] == \"SPFH4\"].sort_index(level=[\"R290\", \"R32\", \"R410a\"])[\n",
                "    [\"SPF_type\", \"Homes\", \"Median (IQR)\", \"Mean (95% CI)\"]\n",
                "]"
            ]
        },
        {
            "cell_type": "markdown",
            "metadata": {},
            "source": [
                "The table below shows the the count of refrigerant across HT and LT ASHPs."
            ]
        },
        {
            "cell_type": "code",
            "execution_count": null,
            "metadata": {},
            "outputs": [],
            "source": [
                "round(\n",
                "    flow_temp_data[flow_temp_data[\"SPF_type\"] == \"SPFH4\"]\n",
                "    .groupby([\"HP_Type\", \"HP_Refrigerant\"])[\"SPF_value\"]\n",
                "    .agg([\"median\", \"count\"])\n",
                "    .rename({\"median\": \"Median SPFH4\", \"count\": \"count\"}, axis=1),\n",
                "    2,\n",
                ")"
            ]
        },
        {
            "cell_type": "code",
            "execution_count": null,
            "metadata": {},
            "outputs": [],
            "source": [
                "dfs = []\n",
                "\n",
                "df = flow_temp_data[flow_temp_data[\"SPF_type\"] == \"SPFH4\"]\n",
                "for hp_type in [\"HT_ASHP\", \"LT_ASHP\"]:\n",
                "    df = flow_temp_data[flow_temp_data[\"HP_Type\"] == hp_type]\n",
                "\n",
                "    df = af.stats_by_hp_and_SPF_type(df, by=\"HP_Refrigerant\").set_index([\"HP_Refrigerant\"])\n",
                "    df[\"HP_Type\"] = hp_type\n",
                "    df = df[df[\"SPF_type\"] == \"SPFH4\"].sort_index(level=[\"R290\", \"R32\", \"R410a\"])[\n",
                "        [\"HP_Type\", \"SPF_type\", \"Homes\", \"Median (IQR)\", \"Mean (95% CI)\"]\n",
                "    ]\n",
                "    dfs.append(df)\n",
                "pd.concat(dfs)"
            ]
        },
        {
            "cell_type": "markdown",
            "metadata": {},
            "source": [
                "The box plot below shows the R410A refrigerant performing worse than R290 and R32."
            ]
        },
        {
            "cell_type": "code",
            "execution_count": null,
            "metadata": {},
            "outputs": [],
            "source": [
                "px.box(\n",
                "    flow_temp_data[flow_temp_data[\"SPF_type\"] == \"SPFH4\"],\n",
                "    x=\"HP_Refrigerant\",\n",
                "    y=\"SPF_value\",\n",
                "    width=500,\n",
                "    title=\"ASHPs\",\n",
                "    labels={\"SPF_value\": \"SPFH4\"},\n",
                ")"
            ]
        },
        {
            "cell_type": "code",
            "execution_count": null,
            "metadata": {},
            "outputs": [],
            "source": [
                "# print(len(flow_temp_data))\n",
                "# flow_temp_data = flow_temp_data[flow_temp_data[\"temperature_cleaning_issue\"].isna()]\n",
                "# print(len(flow_temp_data))"
            ]
        },
        {
            "cell_type": "markdown",
            "metadata": {},
            "source": [
                "The frequency distribution below shows the count across the binned mean flow temperature, split between LT and HT ASHPs."
            ]
        },
        {
            "cell_type": "code",
            "execution_count": null,
            "metadata": {},
            "outputs": [],
            "source": [
                "# Bin mean flow temperature\n",
                "flow_temp_data[\"Binned Mean Flow Temperature\"] = pd.cut(\n",
                "    flow_temp_data[\"window_mean_Heat_Pump_Heating_Flow_Temperature\"],\n",
                "    bins=10,\n",
                "    precision=0,\n",
                ")\n",
                "\n",
                "# Normalise y axis\n",
                "flow_temp_data_binned_grouped = (\n",
                "    flow_temp_data.groupby([\"Binned Mean Flow Temperature\", \"HP_Type\"]).count()[\"Property_ID\"].reset_index()\n",
                ")\n",
                "flow_temp_data_binned_grouped = flow_temp_data_binned_grouped.merge(\n",
                "    flow_temp_data_binned_grouped.groupby(\"HP_Type\").apply(sum)[\"Property_ID\"],\n",
                "    on=\"HP_Type\",\n",
                ")\n",
                "flow_temp_data_binned_grouped[\"Proportion\"] = (\n",
                "    flow_temp_data_binned_grouped[\"Property_ID_x\"] / flow_temp_data_binned_grouped[\"Property_ID_y\"]\n",
                ")\n",
                "flow_temp_data_binned_grouped = flow_temp_data_binned_grouped.sort_values(\n",
                "    [\"Binned Mean Flow Temperature\"], ascending=True\n",
                ")\n",
                "\n",
                "# Reorder DataFrame\n",
                "flow_temp_data_binned_grouped = pd.concat(\n",
                "    [\n",
                "        flow_temp_data_binned_grouped[flow_temp_data_binned_grouped[\"HP_Type\"] == \"LT_ASHP\"],\n",
                "        flow_temp_data_binned_grouped[flow_temp_data_binned_grouped[\"HP_Type\"] == \"HT_ASHP\"],\n",
                "    ]\n",
                ")\n",
                "\n",
                "# Generate frequency distribution (as line plot)\n",
                "fig = px.line(\n",
                "    flow_temp_data_binned_grouped,\n",
                "    x=flow_temp_data_binned_grouped[\"Binned Mean Flow Temperature\"].astype(str),\n",
                "    y=\"Proportion\",\n",
                "    color=\"HP_Type\",\n",
                "    width=700,\n",
                "    labels={\"x\": \"Binned Mean Flow Temperature\", \"Proportion\": \"Percentage\"},\n",
                "    title=\"Frequency distribution of binned mean flow temp\",\n",
                ")\n",
                "\n",
                "fig = fig.update_layout(yaxis_tickformat=\"0%\")\n",
                "fig.show()"
            ]
        },
        {
            "cell_type": "markdown",
            "metadata": {},
            "source": [
                "The chart below shows the performance of different refrigerants across the range of mean flow temperatures. It shows again that the units fitted with R410A refrigerant perform significantly worse than R290 and R32."
            ]
        },
        {
            "cell_type": "code",
            "execution_count": null,
            "metadata": {},
            "outputs": [],
            "source": [
                "# Generate scatter plot with regression lines by refrigerant and heat pump type\n",
                "fig = go.Figure()\n",
                "\n",
                "colours = [\n",
                "    cf.colour1_rgb,\n",
                "    cf.colour2_rgb,\n",
                "    cf.colour3_rgb,\n",
                "]\n",
                "symbols = [\"circle\", \"x\"]\n",
                "\n",
                "for refrigerant, colour, offset in zip(flow_temp_data[\"HP_Refrigerant\"].unique(), colours, [-0.01, 0, 0.01]):\n",
                "    print(refrigerant)\n",
                "    for hp_type, symbol in zip([\"LT_ASHP\", \"HT_ASHP\"], symbols):\n",
                "        print(hp_type)\n",
                "        flow_temp_data_loop = flow_temp_data[\n",
                "            (flow_temp_data[\"HP_Refrigerant\"] == refrigerant)\n",
                "            & (flow_temp_data[\"HP_Type\"] == hp_type)\n",
                "            & (flow_temp_data[\"SPF_type\"] == \"SPFH4\")\n",
                "        ]\n",
                "        try:\n",
                "            fig.add_trace(\n",
                "                go.Scatter(\n",
                "                    x=flow_temp_data_loop[\"window_mean_Heat_Pump_Heating_Flow_Temperature\"],\n",
                "                    y=flow_temp_data_loop[\"SPF_value\"],\n",
                "                    mode=\"markers\",\n",
                "                    name=f\"{refrigerant}_{hp_type}\",\n",
                "                    marker_color=f\"rgb{colour}\",\n",
                "                    marker_symbol=symbol,\n",
                "                )\n",
                "            )\n",
                "            # We are not interested in plotting a regression line for R32 HT_ASHPs as there are not many.\n",
                "            if refrigerant == \"R32\" and hp_type == \"HT_ASHP\":\n",
                "                continue\n",
                "            else:\n",
                "                regr = LinearRegression()\n",
                "                res = regr.fit(\n",
                "                    np.array(flow_temp_data_loop[\"window_mean_Heat_Pump_Heating_Flow_Temperature\"]).reshape(-1, 1),\n",
                "                    flow_temp_data_loop[\"SPF_value\"],\n",
                "                )\n",
                "\n",
                "                fit = regr.predict(\n",
                "                    np.array(flow_temp_data_loop[\"window_mean_Heat_Pump_Heating_Flow_Temperature\"]).reshape(-1, 1)\n",
                "                )\n",
                "\n",
                "                fig.add_trace(\n",
                "                    go.Scatter(\n",
                "                        x=flow_temp_data_loop[\"window_mean_Heat_Pump_Heating_Flow_Temperature\"],\n",
                "                        y=fit,\n",
                "                        mode=\"lines\",\n",
                "                        name=f\"{refrigerant}_{hp_type}_fit\",\n",
                "                        marker_color=f\"rgb{colour}\",\n",
                "                    )\n",
                "                )\n",
                "\n",
                "                slope, intercept, r_value, p_value, std_err = stats.linregress(\n",
                "                    flow_temp_data_loop[\"window_mean_Heat_Pump_Heating_Flow_Temperature\"],\n",
                "                    flow_temp_data_loop[\"SPF_value\"],\n",
                "                )\n",
                "\n",
                "                print(f\"p_value (2 d.p.) : {round(p_value, 2)}\")\n",
                "                x = flow_temp_data[\"window_mean_Heat_Pump_Heating_Flow_Temperature\"].max()\n",
                "                y = slope * x + intercept\n",
                "\n",
                "                fig.add_trace(\n",
                "                    go.Scatter(\n",
                "                        x=[x * 1.05],\n",
                "                        y=[y * (1 + 7 * offset)],\n",
                "                        mode=\"lines+text\",\n",
                "                        text=f\"R²={round(r_value**2,2)}\",\n",
                "                        textposition=\"middle center\",\n",
                "                        textfont=dict(color=f\"rgb{colour}\"),\n",
                "                        showlegend=False,\n",
                "                    )\n",
                "                )\n",
                "\n",
                "        except:\n",
                "            pass\n",
                "\n",
                "fig.update_layout(\n",
                "    width=800,\n",
                "    title=\"Relationship between mean flow temperature and SPFH4 by Refrigerant\",\n",
                ")\n",
                "fig.update_xaxes(title=\"Mean Heat Pump Flow Temperature\")\n",
                "fig.update_yaxes(title=\"SPFH4\")\n",
                "fig.update_traces(opacity=scatter_opacity)\n",
                "fig.show()"
            ]
        },
        {
            "cell_type": "code",
            "execution_count": null,
            "metadata": {},
            "outputs": [],
            "source": [
                "# Optional code\n",
                "\n",
                "# Implement linear regression and produce statistics\n",
                "slope, intercept, r_value, p_value, std_err = stats.linregress(\n",
                "    flow_temp_data[flow_temp_data[\"SPF_type\"] == \"SPFH4\"][\"window_mean_Heat_Pump_Heating_Flow_Temperature\"],\n",
                "    flow_temp_data[flow_temp_data[\"SPF_type\"] == \"SPFH4\"][\"SPF_value\"],\n",
                ")\n",
                "\n",
                "print(\n",
                "    round(\n",
                "        pd.DataFrame(\n",
                "            {\n",
                "                \"slope\": slope,\n",
                "                \"intercept\": intercept,\n",
                "                \"r_squared\": r_value**2,\n",
                "                \"p_value\": p_value,\n",
                "                \"std_err\": std_err,\n",
                "            },\n",
                "            index=[0],\n",
                "        ).T.rename({0: \"value\"}, axis=1),\n",
                "        2,\n",
                "    )\n",
                ")\n",
                "\n",
                "x = flow_temp_data[\"window_mean_Heat_Pump_Heating_Flow_Temperature\"].max()\n",
                "y = slope * x + intercept\n",
                "\n",
                "fig = px.scatter(\n",
                "    flow_temp_data[flow_temp_data[\"SPF_type\"] == \"SPFH4\"],\n",
                "    x=\"window_mean_Heat_Pump_Heating_Flow_Temperature\",\n",
                "    y=\"SPF_value\",\n",
                "    width=800,\n",
                "    trendline=\"ols\",\n",
                ")\n",
                "\n",
                "fig.update_yaxes(title=\"SPFH4\")\n",
                "fig.update_xaxes(title=\"Mean Heat Pump Flow Temperature (°C)\")\n",
                "fig.add_trace(\n",
                "    go.Scatter(\n",
                "        x=[x * 1.04],\n",
                "        y=[y],\n",
                "        mode=\"lines+text\",\n",
                "        text=f\"R²={round(r_value**2,2)}\",\n",
                "        textposition=\"middle center\",\n",
                "        textfont=dict(color=f\"rgb{list(cf.colour_scheme().values())[0]}\"),\n",
                "    )\n",
                ")\n",
                "fig.update_layout(showlegend=False)"
            ]
        },
        {
            "cell_type": "code",
            "execution_count": null,
            "metadata": {},
            "outputs": [],
            "source": [
                "flow_temp_data[\"window_mean_Heat_Pump_Heating_Flow_Temperature\"].describe()"
            ]
        },
        {
            "cell_type": "markdown",
            "metadata": {},
            "source": [
                "The chart below shows that on average, HT_ASHPs tend to operate at similar temperatures to LT_ASHPs.\n",
                "\n",
                "In the chart below, there is a significant difference in SPFH4 between LT_ASHPs and HT_ASHPs, especially in the flow temperature range [33, 40]. This could be due HT_ASHPs being more capable of dealing with differing external air temperatures, allowing the heat pump to operate at a lower temperature more often.\n",
                "\n",
                "While HT_ASHPs operate at slightly higher flow temperatures, many of them do end up operating at similar temperatures as LT_ASHPs.\n",
                "\n",
                "There is a statistically significant relationship (p<0.05) between mean heat pump flow temperature of HT_ASHPs and spf_value – systems where the heat pump flow temperature is higher tend to have higher SPFs. Note that there is a lot of variation in heat pump performance that is not explained by this factor in isolation."
            ]
        },
        {
            "cell_type": "code",
            "execution_count": null,
            "metadata": {},
            "outputs": [],
            "source": [
                "# Generate scatter plot to show relationship between mean flow temperature and SPFH4\n",
                "flow_scatter = px.scatter(\n",
                "    flow_temp_data,\n",
                "    x=\"window_mean_Heat_Pump_Heating_Flow_Temperature\",\n",
                "    y=\"SPF_value\",\n",
                "    color=\"HP_Type\",\n",
                "    width=700,\n",
                "    trendline=\"ols\",\n",
                "    title=\"Relationship between mean flow temperature and SPFH4 by heat pump type\",\n",
                "    labels={\n",
                "        \"SPF_value\": \"SPFH4\",\n",
                "        \"window_mean_Heat_Pump_Heating_Flow_Temperature\": \"Mean Heat Pump Flow Temperature\",\n",
                "    },\n",
                ")\n",
                "\n",
                "flow_scatter.update_traces(opacity=scatter_opacity)\n",
                "flow_scatter.show()"
            ]
        },
        {
            "cell_type": "markdown",
            "metadata": {},
            "source": [
                "The value lies below 0.05, showing the relationship to be statistically significant."
            ]
        },
        {
            "cell_type": "code",
            "execution_count": null,
            "metadata": {},
            "outputs": [],
            "source": [
                "# Optional code\n",
                "\n",
                "# Implement linear regression and produce statistics\n",
                "slope, intercept, r_value, p_value, std_err = stats.linregress(\n",
                "    flow_temp_data[flow_temp_data[\"HP_Type\"] == \"HT_ASHP\"][\"window_mean_Heat_Pump_Heating_Flow_Temperature\"],\n",
                "    flow_temp_data[flow_temp_data[\"HP_Type\"] == \"HT_ASHP\"][\"SPF_value\"],\n",
                ")\n",
                "\n",
                "round(\n",
                "    pd.DataFrame(\n",
                "        {\n",
                "            \"slope\": slope,\n",
                "            \"intercept\": intercept,\n",
                "            \"r_squared\": r_value**2,\n",
                "            \"p_value\": p_value,\n",
                "            \"std_err\": std_err,\n",
                "        },\n",
                "        index=[0],\n",
                "    ).T.rename({0: \"value\"}, axis=1),\n",
                "    2,\n",
                ")"
            ]
        },
        {
            "cell_type": "markdown",
            "metadata": {},
            "source": [
                "The chart below shows the same relationship but groups LT and HT ASHPs together."
            ]
        },
        {
            "cell_type": "code",
            "execution_count": null,
            "metadata": {},
            "outputs": [],
            "source": [
                "# Generate scatter plot to show relationship between mean flow temperature and SPFH4\n",
                "flow_scatter_2 = px.scatter(\n",
                "    flow_temp_data,\n",
                "    x=\"window_mean_Heat_Pump_Heating_Flow_Temperature\",\n",
                "    y=\"SPF_value\",\n",
                "    color=\"HP_Type_2\",\n",
                "    width=700,\n",
                "    trendline=\"ols\",\n",
                "    title=\"ASHPs: Relationship between mean flow temperature and SPFH4\",\n",
                "    labels={\n",
                "        \"SPF_value\": \"SPFH4\",\n",
                "        \"window_mean_Heat_Pump_Heating_Flow_Temperature\": \"Mean Heat Pump Flow Temperature (°C)\",\n",
                "    },\n",
                ")\n",
                "\n",
                "flow_scatter_2.layout.update(showlegend=False)\n",
                "flow_scatter_2.update_traces(opacity=scatter_opacity)\n",
                "flow_scatter_2.show()"
            ]
        },
        {
            "cell_type": "markdown",
            "metadata": {},
            "source": [
                "The value lies below 0.05, showing the relationship to be statistically significant."
            ]
        },
        {
            "cell_type": "code",
            "execution_count": null,
            "metadata": {},
            "outputs": [],
            "source": [
                "# Optional code\n",
                "\n",
                "# Implement linear regression and produce statistics\n",
                "slope, intercept, r_value, p_value, std_err = stats.linregress(\n",
                "    flow_temp_data[flow_temp_data[\"HP_Type_2\"] == \"ASHPs\"][\"window_mean_Heat_Pump_Heating_Flow_Temperature\"],\n",
                "    flow_temp_data[flow_temp_data[\"HP_Type_2\"] == \"ASHPs\"][\"SPF_value\"],\n",
                ")\n",
                "\n",
                "round(\n",
                "    pd.DataFrame(\n",
                "        {\n",
                "            \"slope\": slope,\n",
                "            \"intercept\": intercept,\n",
                "            \"r_squared\": r_value**2,\n",
                "            \"p_value\": p_value,\n",
                "            \"std_err\": std_err,\n",
                "        },\n",
                "        index=[0],\n",
                "    ).T.rename({0: \"value\"}, axis=1),\n",
                "    2,\n",
                ")"
            ]
        },
        {
            "cell_type": "markdown",
            "metadata": {},
            "source": [
                "Below is the empirical distribution of mean flow temperature for LT and HT ASHPs."
            ]
        },
        {
            "cell_type": "code",
            "execution_count": null,
            "metadata": {},
            "outputs": [],
            "source": [
                "# Optional code\n",
                "\n",
                "# The empirical cumulative distribution function further illustrates the shift in temperature range between HT_ASHPs vs LT_ASHPs. HT_ASHPs tend to operate at a higher mean flow temperature.\n",
                "fig_ecdf = px.ecdf(\n",
                "    flow_temp_data,\n",
                "    x=\"window_mean_Heat_Pump_Heating_Flow_Temperature\",\n",
                "    color=\"HP_Type\",\n",
                "    height=500,\n",
                "    width=600,\n",
                "    title=f\"Empirical Distribution\",\n",
                "    labels={\n",
                "        \"SPF_value\": \"SPFH4\",\n",
                "        \"window_mean_Heat_Pump_Heating_Flow_Temperature\": \"Mean Heat Pump Flow Temperature\",\n",
                "    },\n",
                ")\n",
                "fig_ecdf.show()"
            ]
        },
        {
            "cell_type": "code",
            "execution_count": null,
            "metadata": {},
            "outputs": [],
            "source": [
                "# Count of heat pumps part of flow temp analysis\n",
                "pd.DataFrame(flow_temp_data[flow_temp_data[\"SPF_type\"] == \"SPFH4\"].groupby(\"HP_Type\")[\"Property_ID\"].count())"
            ]
        },
        {
            "cell_type": "code",
            "execution_count": null,
            "metadata": {},
            "outputs": [],
            "source": [
                "flow_temp_data[\"flow_temp_binned\"] = pd.cut(\n",
                "    flow_temp_data[\"window_mean_Heat_Pump_Heating_Flow_Temperature\"],\n",
                "    bins=[25, 35, 45, 55],\n",
                ")\n",
                "flow_temp_data = flow_temp_data.sort_values(\"flow_temp_binned\")\n",
                "\n",
                "flow_temp_hist_labels = (flow_temp_data.groupby(\"flow_temp_binned\")[\"Property_ID\"].count() / 3).astype(int)\n",
                "\n",
                "flow_temp_hist_df = flow_temp_data[flow_temp_data[\"SPF_type\"] == \"SPFH4\"]\n",
                "\n",
                "fig = px.histogram(\n",
                "    flow_temp_hist_df,\n",
                "    x=flow_temp_hist_df[\"flow_temp_binned\"].astype(str),\n",
                "    y=\"SPF_value\",\n",
                "    width=600,\n",
                "    height=400,\n",
                "    labels={\"x\": \"Flow temperature binned\"},\n",
                "    histfunc=\"avg\",\n",
                ")\n",
                "\n",
                "fig.add_trace(\n",
                "    go.Line(\n",
                "        x=flow_temp_hist_labels.index.astype(str),\n",
                "        y=[0.1] * flow_temp_hist_labels.index.size,\n",
                "        mode=\"markers+text\",\n",
                "        text=\"n=\" + flow_temp_hist_labels.map(str),\n",
                "        textposition=\"top center\",\n",
                "        textfont_color=\"white\",\n",
                "        marker_opacity=0,\n",
                "        textfont_size=12,\n",
                "    )\n",
                ")\n",
                "fig.update_layout(showlegend=False)\n",
                "fig.update_yaxes(title=\"Mean SPFH4\")\n",
                "fig.show()"
            ]
        },
        {
            "cell_type": "markdown",
            "metadata": {},
            "source": [
                "It is not appropriate to conclude that HT_ASHPs are fundamentally more efficient than LT_ASHPs. Rather that other factors e.g. heat pump design and refrigerant can have a bigger impact on real world heat pump performance versus the maximum temperature that a heat pump can operate at. This is likely because most HT_ASHPs do not spend much time operating at or close to their maximum temperature.\n"
            ]
        },
        {
            "cell_type": "markdown",
            "metadata": {},
            "source": [
                "The scatter below shows the relationship between flow temperature and SPFH4, split by brand. This chart shares resemblance with the scatter chart of refrigerants above; this is due to Daikin primarily using the R410A refrigerant."
            ]
        },
        {
            "cell_type": "code",
            "execution_count": null,
            "metadata": {},
            "outputs": [],
            "source": [
                "# Optional code\n",
                "\n",
                "# Generate scatter plot to show relationship between mean flow temperature and SPFH4\n",
                "flow_scatter_3 = px.scatter(\n",
                "    flow_temp_data,\n",
                "    x=\"window_mean_Heat_Pump_Heating_Flow_Temperature\",\n",
                "    y=\"SPF_value\",\n",
                "    color=\"HP_Brand\",\n",
                "    width=700,\n",
                "    trendline=\"ols\",\n",
                "    title=\"Relationship between mean flow temperature and SPFH4 by Brand\",\n",
                "    labels={\n",
                "        \"SPF_value\": \"SPFH4\",\n",
                "        \"window_mean_Heat_Pump_Heating_Flow_Temperature\": \"Mean Heat Pump Flow Temperature\",\n",
                "    },\n",
                ")\n",
                "\n",
                "flow_scatter_3.update_traces(opacity=scatter_opacity)\n",
                "flow_scatter_3.show()"
            ]
        },
        {
            "cell_type": "markdown",
            "metadata": {},
            "source": [
                "Frequency distribution of binned flow temperature; SPFH4 value, by heat pump type."
            ]
        },
        {
            "cell_type": "code",
            "execution_count": null,
            "metadata": {},
            "outputs": [],
            "source": [
                "# optional code\n",
                "\n",
                "# The chart below also articulates the significant difference in SPF between the heat pump types,\n",
                "# especially prominent in the [33,40] flow temperature range.\n",
                "flow_temp_data[\"mean_flow_bins\"] = pd.cut(\n",
                "    flow_temp_data[\"window_mean_Heat_Pump_Heating_Flow_Temperature\"],\n",
                "    bins=10,\n",
                "    precision=1,\n",
                ")\n",
                "\n",
                "fig = make_subplots(specs=[[{\"secondary_y\": True}]])\n",
                "\n",
                "fig.update_layout(barmode=\"group\", bargap=0.1, bargroupgap=0)\n",
                "for hp_type in [\"LT_ASHP\", \"HT_ASHP\"]:\n",
                "    fig.add_trace(\n",
                "        go.Scatter(\n",
                "            x=flow_temp_data[\"mean_flow_bins\"].unique().sort_values().astype(str),\n",
                "            y=flow_temp_data[flow_temp_data[\"HP_Type\"] == hp_type].groupby(\"mean_flow_bins\").mean()[\"SPF_value\"],\n",
                "            mode=\"lines\",\n",
                "            name=f\"{hp_type} SPFH4\",\n",
                "            text=flow_temp_data[flow_temp_data[\"HP_Type\"] == hp_type]\n",
                "            .groupby(\"mean_flow_bins\")\n",
                "            .mean()[\"SPF_value\"]\n",
                "            .dropna(),\n",
                "            textposition=\"top center\",\n",
                "        ),\n",
                "        secondary_y=True,\n",
                "    )\n",
                "    fig.add_trace(\n",
                "        go.Bar(\n",
                "            x=flow_temp_data[\"mean_flow_bins\"].unique().sort_values().astype(str),\n",
                "            y=flow_temp_data[flow_temp_data[\"HP_Type\"] == hp_type]\n",
                "            .groupby(\"mean_flow_bins\")\n",
                "            .count()[\"Property_ID\"],\n",
                "            name=f\"{hp_type} Count\",\n",
                "        ),\n",
                "        secondary_y=False,\n",
                "    )\n",
                "\n",
                "fig.update_xaxes(title_text=\"Binned Heat Pump Flow Temperature\")\n",
                "fig.update_yaxes(title_text=\"Count\", secondary_y=False)\n",
                "fig.update_yaxes(title_text=\"SPFH4\", secondary_y=True)\n",
                "fig.update_layout(\n",
                "    width=1000,\n",
                "    title=\"Frequency distribution of flow temperature; SPFH4 value, by binned flow temperature\",\n",
                ")\n",
                "\n",
                "for hp_type, colour in zip([\"LT_ASHP\", \"HT_ASHP\"], [cf.colour1_rgb, cf.colour2_rgb]):\n",
                "    print(colour)\n",
                "    fig.update_traces(line=dict(color=f\"rgb{colour}\"), selector=dict(name=f\"{hp_type} SPFH4\"))\n",
                "    fig.update_traces(marker=dict(color=f\"rgb{colour}\"), selector=dict(name=f\"{hp_type} Count\"))\n",
                "\n",
                "fig.show()"
            ]
        },
        {
            "cell_type": "markdown",
            "metadata": {},
            "source": [
                "Frequency distribution of binned flow temperature; SPFH4 value, by heat pump brand."
            ]
        },
        {
            "cell_type": "code",
            "execution_count": null,
            "metadata": {},
            "outputs": [],
            "source": [
                "# Optional code\n",
                "\n",
                "# The chart below confirms that there is a significant difference in SPF between the different heat pump brands.\n",
                "flow_temp_data[\"mean_flow_bins\"] = pd.cut(\n",
                "    flow_temp_data[\"window_mean_Heat_Pump_Heating_Flow_Temperature\"],\n",
                "    bins=10,\n",
                "    precision=1,\n",
                ")\n",
                "\n",
                "fig = make_subplots(specs=[[{\"secondary_y\": True}]])\n",
                "\n",
                "fig.update_layout(barmode=\"group\", bargap=0.1, bargroupgap=0)\n",
                "for hp_brand in flow_temp_data[\"HP_Brand\"].unique():\n",
                "    fig.add_trace(\n",
                "        go.Scatter(\n",
                "            x=flow_temp_data[\"mean_flow_bins\"].unique().sort_values().astype(str),\n",
                "            y=flow_temp_data[flow_temp_data[\"HP_Brand\"] == hp_brand].groupby(\"mean_flow_bins\").mean()[\"SPF_value\"],\n",
                "            mode=\"lines\",\n",
                "            name=f\"{hp_brand} SPFH4\",\n",
                "            text=flow_temp_data[flow_temp_data[\"HP_Brand\"] == hp_brand]\n",
                "            .groupby(\"mean_flow_bins\")\n",
                "            .mean()[\"SPF_value\"]\n",
                "            .dropna(),\n",
                "            textposition=\"top center\",\n",
                "        ),\n",
                "        secondary_y=True,\n",
                "    )\n",
                "    fig.add_trace(\n",
                "        go.Bar(\n",
                "            x=flow_temp_data[\"mean_flow_bins\"].unique().sort_values().astype(str),\n",
                "            y=flow_temp_data[flow_temp_data[\"HP_Brand\"] == hp_brand]\n",
                "            .groupby(\"mean_flow_bins\")\n",
                "            .count()[\"Property_ID\"],\n",
                "            name=f\"{hp_brand} Count\",\n",
                "        ),\n",
                "        secondary_y=False,\n",
                "    )\n",
                "\n",
                "fig.update_xaxes(title_text=\"binned heating flow temperature\")\n",
                "fig.update_yaxes(title_text=\"Count\", secondary_y=False)\n",
                "fig.update_yaxes(title_text=\"SPFH4\", secondary_y=True)\n",
                "fig.update_layout(\n",
                "    width=1000,\n",
                "    title=\"Frequency distribution of flow temperature; SPFH4 value, by binned flow temperature\",\n",
                ")\n",
                "\n",
                "fig.update_traces(line=dict(color=f\"rgb{cf.colour1_rgb}\"), selector=dict(name=\"Mitsubishi SPFH4\"))\n",
                "fig.update_traces(line=dict(color=f\"rgb{cf.colour2_rgb}\"), selector=dict(name=\"Vaillant SPFH4\"))\n",
                "fig.update_traces(line=dict(color=f\"rgb{cf.colour3_rgb}\"), selector=dict(name=\"Daikin SPFH4\"))\n",
                "fig.update_traces(marker=dict(color=f\"rgb{cf.colour1_rgb}\"), selector=dict(name=\"Mitsubishi Count\"))\n",
                "fig.update_traces(marker=dict(color=f\"rgb{cf.colour2_rgb}\"), selector=dict(name=\"Vaillant Count\"))\n",
                "fig.update_traces(marker=dict(color=f\"rgb{cf.colour3_rgb}\"), selector=dict(name=\"Daikin Count\"))\n",
                "\n",
                "fig.show()"
            ]
        },
        {
            "cell_type": "markdown",
            "metadata": {},
            "source": [
                "The chart below shows the makeup of heat pump brands by HP_Type."
            ]
        },
        {
            "cell_type": "code",
            "execution_count": null,
            "metadata": {},
            "outputs": [],
            "source": [
                "# Optional code\n",
                "\n",
                "# As suspected, this could be largely due to HT_ASHPs being almost entirely Vaillant branded\n",
                "# and costing considerably more than Mitsubishi and Daikin.\n",
                "# The chart below illustrates the split of HP_Brands by HP_Type.\n",
                "px.histogram(flow_temp_data, x=\"HP_Type\", color=\"HP_Brand\", width=500, height=400).show()\n",
                "\n",
                "# The chart below illustrates the split of heat pump cost by HP_Brand.\n",
                "# The Vaillant brand is far more expensive on average.\n",
                "px.histogram(flow_temp_data, x=\"Cost_HP\", color=\"HP_Brand\", nbins=10, width=700)"
            ]
        },
        {
            "cell_type": "markdown",
            "metadata": {},
            "source": [
                "The chart below shows the makeup of refrigerants by HP_Type."
            ]
        },
        {
            "cell_type": "code",
            "execution_count": null,
            "metadata": {},
            "outputs": [],
            "source": [
                "# Optional code\n",
                "\n",
                "# The chart below illustrates the split of HP_Brands by HP_Type.\n",
                "px.histogram(flow_temp_data, x=\"HP_Type\", color=\"HP_Refrigerant\", width=500, height=400).show()\n",
                "\n",
                "# The chart below illustrates the split of heat pump cost by HP_Brand.\n",
                "px.histogram(flow_temp_data, x=\"Cost_HP\", color=\"HP_Refrigerant\", nbins=10, width=700)"
            ]
        },
        {
            "cell_type": "markdown",
            "metadata": {},
            "source": [
                "#### How do the coldest day and coldest half hour affect SPFH4?\n",
                "\n",
                "The typical performance of ASHPs in very cold situations is in the range [2.51, 2.60] when looking at the coldest day and [2.41, 2.55] when looking at the coldest half hour."
            ]
        },
        {
            "cell_type": "code",
            "execution_count": null,
            "metadata": {},
            "outputs": [],
            "source": [
                "# Set analysis thresholds\n",
                "cold_start_month = 11\n",
                "cold_end_month = 3\n",
                "cold_min_SPF = 0.75\n",
                "cold_max_SPF = 7.5\n",
                "\n",
                "# Calcuate internal/external temperature difference\n",
                "home_summary_cold[\"temp_difference\"] = (\n",
                "    home_summary_cold[\"Coldest_day_Internal_Air_Temperature: mean\"]\n",
                "    - home_summary_cold[\"Coldest_day_External_Air_Temperature: mean\"]\n",
                ")\n",
                "\n",
                "# Bin internal/external temperature difference\n",
                "home_summary_cold[\"temp_difference_binned\"] = (\n",
                "    pd.cut(home_summary_cold[\"temp_difference\"], bins=10).dropna().astype(str)\n",
                ")\n",
                "\n",
                "print(f\"all: {len(home_summary_cold)/6}\")\n",
                "\n",
                "# Filter for ASHPs only\n",
                "home_summary_cold = home_summary_cold[home_summary_cold[\"HP_Type_2\"] == \"ASHPs\"]\n",
                "\n",
                "\n",
                "print(f\"all_ashps_only: {len(home_summary_cold)/6}\")\n",
                "\n",
                "# Create DataFrame for cold day analysis and filter between analysis thresholds\n",
                "home_summary_cold_day = home_summary_cold[home_summary_cold[\"SPF_type\"] == \"Coldest_day_SPFH4\"]\n",
                "\n",
                "# Filter between analysis thresholds\n",
                "home_summary_cold_day = home_summary_cold_day[\n",
                "    (home_summary_cold_day[\"SPF_value\"] <= cold_max_SPF) & (home_summary_cold_day[\"SPF_value\"] >= cold_min_SPF)\n",
                "]\n",
                "\n",
                "print(f\"day_inside_SPF_threshold: {len(home_summary_cold_day)}\")\n",
                "\n",
                "home_summary_cold_day = home_summary_cold_day[\n",
                "    (pd.DatetimeIndex(home_summary_cold_day[\"Coldest_day_start\"]).month >= cold_start_month)\n",
                "    | (pd.DatetimeIndex(home_summary_cold_day[\"Coldest_day_start\"]).month <= cold_end_month)\n",
                "]\n",
                "\n",
                "print(f\"day_inside_cold_months: {len(home_summary_cold_day)}\")\n",
                "\n",
                "# Rename SPF to COP as COP is no longer seasonal\n",
                "home_summary_cold_day = home_summary_cold_day.replace({\"Coldest_day_SPFH4\": \"Coldest_day_COP\"})\n",
                "\n",
                "# Rename field so that we can combine day and HH DataFrames\n",
                "home_summary_cold_day = home_summary_cold_day.rename(\n",
                "    {\"Coldest_day_External_Air_Temperature: mean\": \"Coldest_External_Air_Temperature: mean\"},\n",
                "    axis=1,\n",
                ")\n",
                "\n",
                "# Calculate heating demand output\n",
                "home_summary_cold_day[\"Cold_Heating_Demand_Output\"] = home_summary_cold_day[\n",
                "    \"Coldest_day_Heat_Pump_Energy_Output\"\n",
                "] + home_summary_cold_day[\"Coldest_day_Boiler_Energy_Output\"].fillna(0)\n",
                "\n",
                "# Bin external air temperature\n",
                "home_summary_cold_day[\"Coldest_External_Air_Temperature_Binned\"] = pd.cut(\n",
                "    home_summary_cold_day[\"Coldest_External_Air_Temperature: mean\"].sort_values(),\n",
                "    bins=range(-20, 10, 1),\n",
                ")\n",
                "\n",
                "# Calculate IQR, lower fence, upper fence for day heating demand output\n",
                "day_iqr_Cold_Heating_Demand_Output = stats.iqr(home_summary_cold_day[\"Cold_Heating_Demand_Output\"])\n",
                "# Set fences to +/- 2 *IQR\n",
                "day_lower = max(\n",
                "    0,\n",
                "    (np.percentile(home_summary_cold_day[\"Cold_Heating_Demand_Output\"], 25) - 2 * day_iqr_Cold_Heating_Demand_Output),\n",
                ")\n",
                "day_upper = (\n",
                "    np.percentile(home_summary_cold_day[\"Cold_Heating_Demand_Output\"], 75) + 2 * day_iqr_Cold_Heating_Demand_Output\n",
                ")\n",
                "\n",
                "# Flag day heating demand output outliers and remove them\n",
                "home_summary_cold_day[\"Cold_Heating_Demand_Output_day_outlier\"] = (\n",
                "    home_summary_cold_day[\"Cold_Heating_Demand_Output\"] < day_lower\n",
                ") | (home_summary_cold_day[\"Cold_Heating_Demand_Output\"] > day_upper)\n",
                "\n",
                "home_summary_cold_day = home_summary_cold_day[home_summary_cold_day[\"Cold_Heating_Demand_Output_day_outlier\"] == False]\n",
                "\n",
                "print(f\"day_inside_heating_demand_threshold: {len(home_summary_cold_day)}\")\n",
                "\n",
                "###### HH\n",
                "\n",
                "# Create DataFrame for cold HH analysis and filter between analysis thresholds\n",
                "home_summary_cold_HH = home_summary_cold[home_summary_cold[\"SPF_type\"] == \"Coldest_HH_SPFH4\"]\n",
                "\n",
                "# Filter between analysis thresholds\n",
                "home_summary_cold_HH = home_summary_cold_HH[\n",
                "    (home_summary_cold_HH[\"SPF_value\"] <= cold_max_SPF) & (home_summary_cold_HH[\"SPF_value\"] >= cold_min_SPF)\n",
                "]\n",
                "\n",
                "print(f\"HH_inside_SPF_threshold: {len(home_summary_cold_HH)}\")\n",
                "\n",
                "home_summary_cold_HH = home_summary_cold_HH[\n",
                "    (pd.DatetimeIndex(home_summary_cold_HH[\"Coldest_HH_start\"]).month >= cold_start_month)\n",
                "    | (pd.DatetimeIndex(home_summary_cold_HH[\"Coldest_HH_start\"]).month <= cold_end_month)\n",
                "]\n",
                "\n",
                "print(f\"HH_inside_cold_months: {len(home_summary_cold_HH)}\")\n",
                "\n",
                "# Rename SPF to COP as COP is no longer seasonal\n",
                "home_summary_cold_HH = home_summary_cold_HH.replace({\"Coldest_HH_SPFH4\": \"Coldest_HH_COP\"})\n",
                "\n",
                "# Rename field so that we can combine day and HH DataFrames\n",
                "home_summary_cold_HH = home_summary_cold_HH.rename(\n",
                "    {\"Coldest_HH_External_Air_Temperature: mean\": \"Coldest_External_Air_Temperature: mean\"},\n",
                "    axis=1,\n",
                ")\n",
                "\n",
                "# Calculate heating demand output\n",
                "home_summary_cold_HH[\"Cold_Heating_Demand_Output\"] = home_summary_cold_HH[\n",
                "    \"Coldest_HH_Heat_Pump_Energy_Output\"\n",
                "] + home_summary_cold_HH[\"Coldest_HH_Boiler_Energy_Output\"].fillna(0)\n",
                "\n",
                "# Bin external air temperature\n",
                "home_summary_cold_HH[\"Coldest_External_Air_Temperature_Binned\"] = pd.cut(\n",
                "    home_summary_cold_HH[\"Coldest_External_Air_Temperature: mean\"].sort_values(),\n",
                "    bins=range(-20, 10, 1),\n",
                ")\n",
                "\n",
                "\n",
                "# Calculate IQR, lower fence, upper fence for HH heating demand output\n",
                "HH_iqr_Cold_Heating_Demand_Output = stats.iqr(home_summary_cold_HH[\"Cold_Heating_Demand_Output\"])\n",
                "\n",
                "# Set fences to +/- 2 *IQR\n",
                "HH_lower = max(\n",
                "    0, (np.percentile(home_summary_cold_HH[\"Cold_Heating_Demand_Output\"], 25) - 2 * HH_iqr_Cold_Heating_Demand_Output)\n",
                ")\n",
                "HH_upper = (\n",
                "    np.percentile(home_summary_cold_HH[\"Cold_Heating_Demand_Output\"], 75) + 2 * HH_iqr_Cold_Heating_Demand_Output\n",
                ")\n",
                "\n",
                "# Flag HH heating demand output outliers and remove them\n",
                "home_summary_cold_HH[\"Cold_Heating_Demand_Output_HH_outlier\"] = (\n",
                "    home_summary_cold_HH[\"Cold_Heating_Demand_Output\"] < HH_lower\n",
                ") | (home_summary_cold_HH[\"Cold_Heating_Demand_Output\"] > HH_upper)\n",
                "\n",
                "home_summary_cold_HH = home_summary_cold_HH[home_summary_cold_HH[\"Cold_Heating_Demand_Output_HH_outlier\"] == False]\n",
                "\n",
                "print(f\"HH_inside_heating_demand_threshold: {len(home_summary_cold_HH)}\")\n",
                "\n",
                "# Combine day and HH DataFrames\n",
                "home_summary_cold_all = pd.concat([home_summary_cold_day, home_summary_cold_HH])\n",
                "\n",
                "print(f\"day lower: {day_lower}\")\n",
                "print(f\"day upper: {day_upper}\")\n",
                "print(f\"HH lower: {HH_lower}\")\n",
                "print(f\"HH upper: {HH_upper}\")"
            ]
        },
        {
            "cell_type": "code",
            "execution_count": null,
            "metadata": {},
            "outputs": [],
            "source": [
                "# Generate stats for coldest day\n",
                "stats_coldest_day = af.stats_by_hp_and_SPF_type(home_summary_cold_day.dropna(subset=\"SPF_value\"), by=\"HP_Type_2\")\n",
                "stats_coldest_day[\"Mean external temp\"] = round(\n",
                "    home_summary_cold_day[\"Coldest_External_Air_Temperature: mean\"].mean(), 2\n",
                ")\n",
                "\n",
                "stats_coldest_day[\n",
                "    [\"HP_Type_2\", \"SPF_type\", \"Homes\", \"Median (IQR)\", \"Mean (95% CI)\", \"Mean external temp\"]\n",
                "].reset_index(drop=True).set_index([\"HP_Type_2\", \"SPF_type\"])"
            ]
        },
        {
            "cell_type": "code",
            "execution_count": null,
            "metadata": {},
            "outputs": [],
            "source": [
                "home_summary_cold_day[\"Coldest_External_Air_Temperature: mean\"].mean()"
            ]
        },
        {
            "cell_type": "code",
            "execution_count": null,
            "metadata": {},
            "outputs": [],
            "source": [
                "# Generate stats for coldest HH\n",
                "stats_coldest_HH = af.stats_by_hp_and_SPF_type(home_summary_cold_HH.dropna(subset=\"SPF_value\"), by=\"HP_Type_2\")\n",
                "stats_coldest_HH[\"Mean external temp\"] = round(\n",
                "    home_summary_cold_HH[\"Coldest_External_Air_Temperature: mean\"].mean(), 2\n",
                ")\n",
                "\n",
                "stats_coldest_HH[\n",
                "    [\"HP_Type_2\", \"SPF_type\", \"Homes\", \"Median (IQR)\", \"Mean (95% CI)\", \"Mean external temp\"]\n",
                "].reset_index(drop=True).set_index([\"HP_Type_2\", \"SPF_type\"])"
            ]
        },
        {
            "cell_type": "markdown",
            "metadata": {},
            "source": [
                "Frequency distribution of day external temperature binned."
            ]
        },
        {
            "cell_type": "code",
            "execution_count": null,
            "metadata": {},
            "outputs": [],
            "source": [
                "px.histogram(\n",
                "    home_summary_cold_day,\n",
                "    x=home_summary_cold_day[\"Coldest_External_Air_Temperature_Binned\"].sort_values().astype(str),\n",
                "    width=700,\n",
                "    labels={\"x\": \"External Temperature Binned\"},\n",
                "    title=\"Coldest day binned external temperature\",\n",
                ")"
            ]
        },
        {
            "cell_type": "markdown",
            "metadata": {},
            "source": [
                "Frequency distribution of HH external temperature binned."
            ]
        },
        {
            "cell_type": "code",
            "execution_count": null,
            "metadata": {},
            "outputs": [],
            "source": [
                "px.histogram(\n",
                "    home_summary_cold_HH,\n",
                "    x=home_summary_cold_HH[\"Coldest_External_Air_Temperature_Binned\"].sort_values().astype(str),\n",
                "    width=700,\n",
                "    labels={\"x\": \"External Temperature Binned\"},\n",
                "    title=\"Coldest HH binned external temperature\",\n",
                ")"
            ]
        },
        {
            "cell_type": "markdown",
            "metadata": {},
            "source": [
                "The chart below shows the relationship between external air temperature and COP for the coldest day and HH. As expected, the the lower the external air temperature, the lower the COP observed."
            ]
        },
        {
            "cell_type": "code",
            "execution_count": null,
            "metadata": {},
            "outputs": [],
            "source": [
                "fig = px.scatter(\n",
                "    home_summary_cold_all,\n",
                "    x=\"Coldest_External_Air_Temperature: mean\",\n",
                "    y=\"SPF_value\",\n",
                "    color=\"SPF_type\",\n",
                "    width=800,\n",
                "    trendline=\"ols\",\n",
                "    labels={\n",
                "        \"Coldest_External_Air_Temperature: mean\": \"Coldest External Air Temperature: mean\",\n",
                "        \"SPF_value\": \"COP\",\n",
                "        \"SPF_type\": \"SPF Type\",\n",
                "    },\n",
                ")\n",
                "fig.update_traces(opacity=scatter_opacity)\n",
                "\n",
                "for spf_type, colour in zip([\"Coldest_day_COP\", \"Coldest_HH_COP\"], colours[0:2]):\n",
                "\n",
                "    # Implement linear regression and produce statistics\n",
                "    slope, intercept, r_value, p_value, std_err = stats.linregress(\n",
                "        home_summary_cold_all[home_summary_cold_all[\"SPF_type\"] == spf_type][\"Coldest_External_Air_Temperature: mean\"],\n",
                "        home_summary_cold_all[home_summary_cold_all[\"SPF_type\"] == spf_type][\"SPF_value\"],\n",
                "    )\n",
                "\n",
                "    print(\n",
                "        round(\n",
                "            pd.DataFrame(\n",
                "                {\n",
                "                    \"slope\": slope,\n",
                "                    \"intercept\": intercept,\n",
                "                    \"r_squared\": r_value**2,\n",
                "                    \"p_value\": p_value,\n",
                "                    \"std_err\": std_err,\n",
                "                },\n",
                "                index=[0],\n",
                "            ).T.rename({0: \"value\"}, axis=1),\n",
                "            2,\n",
                "        )\n",
                "    )\n",
                "\n",
                "    x = home_summary_cold_all[home_summary_cold_all[\"SPF_type\"] == spf_type][\n",
                "        \"Coldest_External_Air_Temperature: mean\"\n",
                "    ].min()\n",
                "    y = slope * x + intercept\n",
                "\n",
                "    fig.add_trace(\n",
                "        go.Scatter(\n",
                "            x=[x * 1.05],\n",
                "            y=[y * 0.95],\n",
                "            mode=\"lines+text\",\n",
                "            text=f\"R²={round(r_value**2,2)}\",\n",
                "            textposition=\"bottom center\",\n",
                "            textfont=dict(color=f\"rgb{colour}\"),\n",
                "        )\n",
                "    )\n",
                "\n",
                "fig.update_layout(showlegend=False)"
            ]
        },
        {
            "cell_type": "markdown",
            "metadata": {},
            "source": [
                "The value for day COP vs external temperature lies below 0.05, showing the relationship to be statistically significant."
            ]
        },
        {
            "cell_type": "code",
            "execution_count": null,
            "metadata": {},
            "outputs": [],
            "source": [
                "# Optional code\n",
                "\n",
                "# Implement linear regression and produce statistics\n",
                "slope, intercept, r_value, p_value, std_err = stats.linregress(\n",
                "    home_summary_cold_all[home_summary_cold_all[\"SPF_type\"] == \"Coldest_day_COP\"][\n",
                "        \"Coldest_External_Air_Temperature: mean\"\n",
                "    ],\n",
                "    home_summary_cold_all[home_summary_cold_all[\"SPF_type\"] == \"Coldest_day_COP\"][\"SPF_value\"],\n",
                ")\n",
                "\n",
                "round(\n",
                "    pd.DataFrame(\n",
                "        {\n",
                "            \"slope\": slope,\n",
                "            \"intercept\": intercept,\n",
                "            \"r_squared\": r_value**2,\n",
                "            \"p_value\": p_value,\n",
                "            \"std_err\": std_err,\n",
                "        },\n",
                "        index=[0],\n",
                "    ).T.rename({0: \"value\"}, axis=1),\n",
                "    2,\n",
                ")"
            ]
        },
        {
            "cell_type": "markdown",
            "metadata": {},
            "source": [
                "The value for HH COP vs external temperature lies below 0.05, showing the relationship to be statistically significant."
            ]
        },
        {
            "cell_type": "code",
            "execution_count": null,
            "metadata": {},
            "outputs": [],
            "source": [
                "# optional code\n",
                "\n",
                "# Implement linear regression and produce statistics\n",
                "slope, intercept, r_value, p_value, std_err = stats.linregress(\n",
                "    home_summary_cold_all[home_summary_cold_all[\"SPF_type\"] == \"Coldest_HH_COP\"][\n",
                "        \"Coldest_External_Air_Temperature: mean\"\n",
                "    ],\n",
                "    home_summary_cold_all[home_summary_cold_all[\"SPF_type\"] == \"Coldest_HH_COP\"][\"SPF_value\"],\n",
                ")\n",
                "\n",
                "round(\n",
                "    pd.DataFrame(\n",
                "        {\n",
                "            \"slope\": slope,\n",
                "            \"intercept\": intercept,\n",
                "            \"r_squared\": r_value**2,\n",
                "            \"p_value\": p_value,\n",
                "            \"std_err\": std_err,\n",
                "        },\n",
                "        index=[0],\n",
                "    ).T.rename({0: \"value\"}, axis=1),\n",
                "    2,\n",
                ")"
            ]
        },
        {
            "cell_type": "markdown",
            "metadata": {},
            "source": [
                "The chart below shows the relationship between heating demand output and COP for the coldest day."
            ]
        },
        {
            "cell_type": "code",
            "execution_count": null,
            "metadata": {},
            "outputs": [],
            "source": [
                "fig = px.scatter(\n",
                "    home_summary_cold_day,\n",
                "    x=\"Cold_Heating_Demand_Output\",\n",
                "    y=\"SPF_value\",\n",
                "    width=800,\n",
                "    title=\"Coldest day\",\n",
                "    trendline=\"ols\",\n",
                "    labels={\"SPF_value\": \"COP\", \"Cold_Heating_Demand_Output\": \"Heating Demand Output\"},\n",
                ")\n",
                "fig.update_traces(opacity=scatter_opacity)\n",
                "fig.show()"
            ]
        },
        {
            "cell_type": "markdown",
            "metadata": {},
            "source": [
                "The chart below shows the relationship between heating demand output and COP for the coldest HH."
            ]
        },
        {
            "cell_type": "code",
            "execution_count": null,
            "metadata": {},
            "outputs": [],
            "source": [
                "fig = px.scatter(\n",
                "    home_summary_cold_HH,\n",
                "    x=\"Cold_Heating_Demand_Output\",\n",
                "    y=\"SPF_value\",\n",
                "    width=800,\n",
                "    title=\"Coldest HH\",\n",
                "    trendline=\"ols\",\n",
                "    labels={\"SPF_value\": \"COP\", \"Cold_Heating_Demand_Output\": \"Heating Demand Output\"},\n",
                ")\n",
                "fig.update_traces(opacity=scatter_opacity)\n",
                "fig.show()"
            ]
        },
        {
            "cell_type": "markdown",
            "metadata": {},
            "source": [
                "The top 10 days by their frequency in the data are listed below along with their mean external temperature."
            ]
        },
        {
            "cell_type": "code",
            "execution_count": null,
            "metadata": {},
            "outputs": [],
            "source": [
                "coldest_days = (\n",
                "    home_summary_cold_day.groupby(\"Coldest_day_start\")[\"Coldest_External_Air_Temperature: mean\"]\n",
                "    .agg([\"count\", \"mean\"])\n",
                "    .sort_values(by=\"count\", ascending=False)\n",
                ")\n",
                "coldest_days = coldest_days.rename({\"mean\": \"Mean External Air Temp\"}, axis=1)\n",
                "coldest_days.index = pd.to_datetime(coldest_days.index)\n",
                "coldest_days.nlargest(10, \"count\").round(1)"
            ]
        },
        {
            "cell_type": "markdown",
            "metadata": {},
            "source": [
                "Mean day external temperature:"
            ]
        },
        {
            "cell_type": "code",
            "execution_count": null,
            "metadata": {},
            "outputs": [],
            "source": [
                "round(home_summary_cold_day[\"Coldest_External_Air_Temperature: mean\"].mean(), 2)"
            ]
        },
        {
            "cell_type": "markdown",
            "metadata": {},
            "source": [
                "Mean HH external temperature:"
            ]
        },
        {
            "cell_type": "code",
            "execution_count": null,
            "metadata": {},
            "outputs": [],
            "source": [
                "round(home_summary_cold_HH[\"Coldest_External_Air_Temperature: mean\"].mean(), 2)\n"
            ]
        },
        {
            "cell_type": "markdown",
            "metadata": {},
            "source": [
                "The top 10 half hours by their frequency in the data are listed below along with their mean external temperature."
            ]
        },
        {
            "cell_type": "code",
            "execution_count": null,
            "metadata": {},
            "outputs": [],
            "source": [
                "coldest_HHs = (\n",
                "    home_summary_cold_HH.groupby(\"Coldest_HH_start\")[\"Coldest_External_Air_Temperature: mean\"]\n",
                "    .agg([\"count\", \"mean\"])\n",
                "    .sort_values(by=\"count\", ascending=False)\n",
                ")\n",
                "coldest_HHs = coldest_HHs.rename({\"mean\": \"Mean External Air Temp\"}, axis=1)\n",
                "coldest_HHs.nlargest(10, \"count\")"
            ]
        },
        {
            "cell_type": "markdown",
            "metadata": {},
            "source": [
                "The table below shows stats on the day COP for binned internal/external temperature differences."
            ]
        },
        {
            "cell_type": "code",
            "execution_count": null,
            "metadata": {},
            "outputs": [],
            "source": [
                "af.stats_by_hp_and_SPF_type(\n",
                "    home_summary_cold_day.dropna(subset=\"temp_difference_binned\"),\n",
                "    by=\"temp_difference_binned\",\n",
                ")[[\"temp_difference_binned\", \"SPF_type\", \"Homes\", \"Median (IQR)\", \"Mean (95% CI)\"]].reset_index(drop=True).set_index(\n",
                "    [\"temp_difference_binned\", \"SPF_type\"]\n",
                ")"
            ]
        },
        {
            "cell_type": "markdown",
            "metadata": {},
            "source": [
                "The chart below shows the relationship between internal/external temperature and COP."
            ]
        },
        {
            "cell_type": "code",
            "execution_count": null,
            "metadata": {},
            "outputs": [],
            "source": [
                "temp_diff_scatter_df = home_summary_cold_day[\n",
                "    (home_summary_cold_day[\"temp_difference\"] >= 5)\n",
                "    & (home_summary_cold_day[\"Coldest_day_Internal_Air_Temperature: mean\"] > 5)\n",
                "]\n",
                "\n",
                "# Optional code\n",
                "\n",
                "# Implement linear regression and produce statistics\n",
                "slope, intercept, r_value, p_value, std_err = stats.linregress(\n",
                "    temp_diff_scatter_df[\"temp_difference\"],\n",
                "    temp_diff_scatter_df[\"SPF_value\"],\n",
                ")\n",
                "\n",
                "print(\n",
                "    round(\n",
                "        pd.DataFrame(\n",
                "            {\n",
                "                \"slope\": slope,\n",
                "                \"intercept\": intercept,\n",
                "                \"r_squared\": r_value**2,\n",
                "                \"p_value\": p_value,\n",
                "                \"std_err\": std_err,\n",
                "            },\n",
                "            index=[0],\n",
                "        ).T.rename({0: \"value\"}, axis=1),\n",
                "        2,\n",
                "    )\n",
                ")\n",
                "\n",
                "x = temp_diff_scatter_df[\"temp_difference\"].max()\n",
                "y = slope * x + intercept\n",
                "\n",
                "fig = px.scatter(\n",
                "    temp_diff_scatter_df,\n",
                "    x=\"temp_difference\",\n",
                "    y=\"SPF_value\",\n",
                "    width=800,\n",
                "    title=\"COP by internal/external temp difference\",\n",
                "    labels={\n",
                "        \"SPF_value\": \"Day COP\",\n",
                "        \"temp_difference\": \"Internal to external temperature difference\",\n",
                "    },\n",
                "    trendline=\"ols\",\n",
                ")\n",
                "\n",
                "fig.update_traces(opacity=scatter_opacity)\n",
                "fig.add_trace(\n",
                "    go.Scatter(\n",
                "        x=[x * 1.05],\n",
                "        y=[y],\n",
                "        mode=\"lines+text\",\n",
                "        text=f\"R²={round(r_value**2,2)}\",\n",
                "        textposition=\"middle center\",\n",
                "        textfont=dict(color=f\"rgb{list(cf.colour_scheme().values())[0]}\"),\n",
                "    )\n",
                ")\n",
                "fig.update_layout(showlegend=False)"
            ]
        },
        {
            "cell_type": "markdown",
            "metadata": {},
            "source": [
                "The table below shows stats on the day COP for binned internal/external temperature differences."
            ]
        },
        {
            "cell_type": "code",
            "execution_count": null,
            "metadata": {},
            "outputs": [],
            "source": [
                "af.stats_by_hp_and_SPF_type(\n",
                "    home_summary_cold_HH.dropna(subset=\"temp_difference_binned\"),\n",
                "    by=\"temp_difference_binned\",\n",
                ")[[\"temp_difference_binned\", \"SPF_type\", \"Homes\", \"Median (IQR)\", \"Mean (95% CI)\"]].reset_index(drop=True).set_index(\n",
                "    [\"temp_difference_binned\", \"SPF_type\"]\n",
                ")"
            ]
        },
        {
            "cell_type": "markdown",
            "metadata": {},
            "source": [
                "The chart below shows the relationship between internal/external temperature and COP."
            ]
        },
        {
            "cell_type": "code",
            "execution_count": null,
            "metadata": {},
            "outputs": [],
            "source": [
                "temp_diff_scatter_df_HH = home_summary_cold_HH[\n",
                "    (home_summary_cold_HH[\"temp_difference\"] >= 5)\n",
                "    & (home_summary_cold_HH[\"Coldest_day_Internal_Air_Temperature: mean\"] > 5)\n",
                "]\n",
                "\n",
                "# Optional code\n",
                "\n",
                "# Implement linear regression and produce statistics\n",
                "slope, intercept, r_value, p_value, std_err = stats.linregress(\n",
                "    temp_diff_scatter_df_HH[\"temp_difference\"],\n",
                "    temp_diff_scatter_df_HH[\"SPF_value\"],\n",
                ")\n",
                "\n",
                "print(\n",
                "    round(\n",
                "        pd.DataFrame(\n",
                "            {\n",
                "                \"slope\": slope,\n",
                "                \"intercept\": intercept,\n",
                "                \"r_squared\": r_value**2,\n",
                "                \"p_value\": p_value,\n",
                "                \"std_err\": std_err,\n",
                "            },\n",
                "            index=[0],\n",
                "        ).T.rename({0: \"value\"}, axis=1),\n",
                "        2,\n",
                "    )\n",
                ")\n",
                "\n",
                "x = temp_diff_scatter_df_HH[\"temp_difference\"].max()\n",
                "y = slope * x + intercept\n",
                "\n",
                "fig = px.scatter(\n",
                "    home_summary_cold_HH[\n",
                "        (home_summary_cold_HH[\"temp_difference\"] >= 5)\n",
                "        & (home_summary_cold_HH[\"Coldest_HH_Internal_Air_Temperature: mean\"] > 5)\n",
                "    ],\n",
                "    x=\"temp_difference\",\n",
                "    y=\"SPF_value\",\n",
                "    width=800,\n",
                "    title=\"COP by internal/external temp difference\",\n",
                "    labels={\"SPF_value\": \"Half-hour COP\"},\n",
                "    trendline=\"ols\",\n",
                ")\n",
                "\n",
                "fig.update_traces(opacity=scatter_opacity)\n",
                "fig.update_xaxes(title=\"Internal to external temperature difference\")\n",
                "fig.add_trace(\n",
                "    go.Scatter(\n",
                "        x=[x * 1.05],\n",
                "        y=[y],\n",
                "        mode=\"lines+text\",\n",
                "        text=f\"R²={round(r_value**2,2)}\",\n",
                "        textposition=\"middle center\",\n",
                "        textfont=dict(color=f\"rgb{list(cf.colour_scheme().values())[0]}\"),\n",
                "    )\n",
                ")\n",
                "fig.update_layout(showlegend=False)"
            ]
        },
        {
            "cell_type": "markdown",
            "metadata": {},
            "source": [
                "The chart below shows the relationship between internal temperature and day COP."
            ]
        },
        {
            "cell_type": "code",
            "execution_count": null,
            "metadata": {},
            "outputs": [],
            "source": [
                "fig = px.scatter(\n",
                "    home_summary_cold_day,\n",
                "    x=\"Coldest_day_Internal_Air_Temperature: mean\",\n",
                "    y=\"SPF_value\",\n",
                "    width=500,\n",
                "    title=\"Day COP by internal temp\",\n",
                "    labels={\"SPF_value\": \"Day COP\"},\n",
                ")\n",
                "fig.update_traces(opacity=scatter_opacity)\n",
                "fig.show()"
            ]
        },
        {
            "cell_type": "markdown",
            "metadata": {},
            "source": [
                "The chart below shows the relationship between internal temperature and HH COP."
            ]
        },
        {
            "cell_type": "code",
            "execution_count": null,
            "metadata": {},
            "outputs": [],
            "source": [
                "fig = px.scatter(\n",
                "    home_summary_cold_HH,\n",
                "    x=\"Coldest_HH_Internal_Air_Temperature: mean\",\n",
                "    y=\"SPF_value\",\n",
                "    width=500,\n",
                "    title=\"HH COP by internal temp\",\n",
                "    labels={\"SPF_value\": \"HH COP\"},\n",
                ")\n",
                "fig.update_traces(opacity=scatter_opacity)\n",
                "fig.show()"
            ]
        },
        {
            "cell_type": "code",
            "execution_count": null,
            "metadata": {},
            "outputs": [],
            "source": [
                "# For each home, we create a DataFrame that compares the day COP and HH COP\n",
                "\n",
                "cold_day_HH_comparison = (\n",
                "    home_summary_cold_day[[\"Property_ID\", \"SPF_value\"]]\n",
                "    .merge(home_summary_cold_HH[[\"Property_ID\", \"SPF_value\"]], on=\"Property_ID\")\n",
                "    .rename({\"SPF_value_x\": \"Coldest_Day_COP\", \"SPF_value_y\": \"Coldest_HH_COP\"}, axis=1)\n",
                ")\n",
                "cold_day_HH_comparison[\"Day COP higher than HH COP\"] = (\n",
                "    cold_day_HH_comparison[\"Coldest_Day_COP\"] > cold_day_HH_comparison[\"Coldest_HH_COP\"]\n",
                ")\n",
                "cold_day_HH_comparison[\"COP_diff\"] = (\n",
                "    cold_day_HH_comparison[\"Coldest_Day_COP\"] - cold_day_HH_comparison[\"Coldest_HH_COP\"]\n",
                ")\n",
                "cold_day_HH_comparison"
            ]
        },
        {
            "cell_type": "markdown",
            "metadata": {},
            "source": [
                "We plot this data to observe the scale at which the day COP is higher than than the HH COP. It is expected that the day COP is higher."
            ]
        },
        {
            "cell_type": "code",
            "execution_count": null,
            "metadata": {},
            "outputs": [],
            "source": [
                "fig = px.scatter(\n",
                "    cold_day_HH_comparison,\n",
                "    x=\"Coldest_HH_COP\",\n",
                "    y=\"Coldest_Day_COP\",\n",
                "    color=\"Day COP higher than HH COP\",\n",
                "    hover_data=[\"Property_ID\"],\n",
                "    width=800,\n",
                ")\n",
                "fig.update_traces(opacity=scatter_opacity)\n",
                "fig.show()"
            ]
        },
        {
            "cell_type": "markdown",
            "metadata": {},
            "source": [
                "#### How does floor area affect SPF?"
            ]
        },
        {
            "cell_type": "code",
            "execution_count": null,
            "metadata": {},
            "outputs": [],
            "source": [
                "# Bin floor area and calculate average total energy output\n",
                "homes_within_threshold[\"Total_Floor_Area\"] = pd.to_numeric(homes_within_threshold[\"Total_Floor_Area\"], errors=\"coerce\")\n",
                "homes_within_threshold[\"Total_Floor_Area_Binned\"] = pd.cut(homes_within_threshold[\"Total_Floor_Area\"], 5, precision=0)\n",
                "floor_area_binned_df = homes_within_threshold.groupby(\"Total_Floor_Area_Binned\").agg(\n",
                "    {\"window_Total_Energy_Output\": \"mean\", \"Property_ID\": \"count\"}\n",
                ")\n",
                "pd.DataFrame(floor_area_binned_df)"
            ]
        },
        {
            "cell_type": "markdown",
            "metadata": {},
            "source": [
                "The chart below shows the mean total energy output for each floor area bin."
            ]
        },
        {
            "cell_type": "code",
            "execution_count": null,
            "metadata": {},
            "outputs": [],
            "source": [
                "# Generate bar chart showing mean total energy output for each floor area bin\n",
                "px.bar(\n",
                "    floor_area_binned_df.sort_index(),\n",
                "    x=floor_area_binned_df.index.astype(str),\n",
                "    y=\"window_Total_Energy_Output\",\n",
                "    width=700,\n",
                "    labels={\n",
                "        \"x\": \"Total Floor Area Binned\",\n",
                "        \"window_Total_Energy_Output\": \"Total Energy Output\",\n",
                "    },\n",
                "    title=\"Mean total energy output by floor area binned\",\n",
                ")"
            ]
        },
        {
            "cell_type": "code",
            "execution_count": null,
            "metadata": {},
            "outputs": [],
            "source": [
                "# Generate bar chart showing mean total energy output for each floor area bin\n",
                "\n",
                "floor_area_binned_df[\"window_Total_Energy_Output\"] = floor_area_binned_df[\"window_Total_Energy_Output\"] / 365\n",
                "floor_area_binned_df[\"Property_ID\"] = (floor_area_binned_df[\"Property_ID\"] / 3).astype(int)\n",
                "floor_area_binned_df"
            ]
        },
        {
            "cell_type": "code",
            "execution_count": null,
            "metadata": {},
            "outputs": [],
            "source": [
                "fig = px.bar(\n",
                "    floor_area_binned_df.sort_index(),\n",
                "    x=floor_area_binned_df.index.astype(str),\n",
                "    y=\"window_Total_Energy_Output\",\n",
                "    width=700,\n",
                "    labels={\n",
                "        \"x\": \"Total Floor Area Binned\",\n",
                "        \"window_Total_Energy_Output\": \"Mean kWh/day\",\n",
                "    },\n",
                "    title=\"Mean total energy output by floor area binned\",\n",
                ")\n",
                "\n",
                "fig.add_trace(\n",
                "    go.Line(\n",
                "        x=floor_area_binned_df.index.astype(str),\n",
                "        y=[y_range_min] * floor_area_binned_df.index.size,\n",
                "        mode=\"markers+text\",\n",
                "        text=\"n=\" + floor_area_binned_df[\"Property_ID\"].map(str),\n",
                "        textposition=\"top center\",\n",
                "        textfont_color=\"white\",\n",
                "        marker_opacity=0,\n",
                "        textfont_size=12,\n",
                "    )\n",
                ")\n",
                "\n",
                "fig.update_layout(showlegend=False)\n",
                "fig.show()"
            ]
        },
        {
            "cell_type": "markdown",
            "metadata": {},
            "source": [
                "The chart below shows a strong relationship between total floor are and total energy output."
            ]
        },
        {
            "cell_type": "code",
            "execution_count": null,
            "metadata": {},
            "outputs": [],
            "source": [
                "# Calculate confidence interval\n",
                "stats_by_house_type[\"half_interval\"] = stats_by_house_type[\"Mean\"] - stats_by_house_type[\"Mean CI Lower\"]\n",
                "\n",
                "y_range_min = 1.8\n",
                "y_range_max = 3.8\n",
                "\n",
                "# Generate bar graph of means and confidence intervals for each group\n",
                "fig = px.bar(\n",
                "    stats_by_house_type,\n",
                "    x=stats_by_house_type.index,\n",
                "    y=\"Mean\",\n",
                "    width=600,\n",
                "    range_y=[y_range_min, y_range_max],\n",
                "    error_y=stats_by_house_type[\"half_interval\"],\n",
                "    title=\"ASHPs Mean SPFH4 with 95% Confidence Intervals\",\n",
                "    labels={\"Mean\": \"Mean SPFH4\", \"House_Type\": \"House Type\"},\n",
                "    hover_data=[\"Homes\"],\n",
                ")\n",
                "\n",
                "fig.add_trace(\n",
                "    go.Line(\n",
                "        x=stats_by_house_type.index,\n",
                "        y=[y_range_min] * stats_by_house_type.index.size,\n",
                "        mode=\"markers+text\",\n",
                "        text=\"n=\" + stats_by_house_type[\"Homes\"].map(str),\n",
                "        textposition=\"top center\",\n",
                "        textfont_color=\"white\",\n",
                "        marker_opacity=0,\n",
                "        textfont_size=10,\n",
                "    )\n",
                ")\n",
                "fig.update_layout(showlegend=False)\n",
                "fig.show()"
            ]
        },
        {
            "cell_type": "code",
            "execution_count": null,
            "metadata": {},
            "outputs": [],
            "source": [
                "# Generate scatter chart showing mean total energy output versus total floor area for each home\n",
                "fig = px.scatter(\n",
                "    homes_within_threshold,\n",
                "    x=\"Total_Floor_Area\",\n",
                "    y=\"window_Total_Energy_Output\",\n",
                "    width=800,\n",
                "    trendline=\"ols\",\n",
                "    labels={\n",
                "        \"window_Total_Energy_Output\": \"Total Energy Output\",\n",
                "        \"Total_Floor_Area\": \"Total Floor Area\",\n",
                "    },\n",
                "    title=\"Total floor area vs total energy output\",\n",
                ")\n",
                "fig.update_traces(opacity=scatter_opacity)\n",
                "fig.show()"
            ]
        },
        {
            "cell_type": "markdown",
            "metadata": {},
            "source": [
                "#### How often do ASHPs operate at higher temperatures (above 65 degrees C)?"
            ]
        },
        {
            "cell_type": "markdown",
            "metadata": {},
            "source": [
                "The table below spfh stats for ASHPs split between high temperature operation and not."
            ]
        },
        {
            "cell_type": "code",
            "execution_count": null,
            "metadata": {},
            "outputs": [],
            "source": [
                "# Calculate statistics\n",
                "af.stats_by_hp_and_SPF_type(\n",
                "    homes_within_threshold[\n",
                "        (homes_within_threshold[\"HP_Type_2\"] == \"ASHPs\") & (homes_within_threshold[\"SPF_type\"] != \"SPFH3\")\n",
                "    ].dropna(subset=\"window_flow > 65C\"),\n",
                "    by=\"window_flow > 65C\",\n",
                ")[[\"window_flow > 65C\", \"SPF_type\", \"Homes\", \"Median (IQR)\", \"Mean (95% CI)\"]].reset_index(drop=True).set_index(\n",
                "    [\"window_flow > 65C\", \"SPF_type\"]\n",
                ").sort_values([\"window_flow > 65C\", \"SPF_type\"])"
            ]
        },
        {
            "cell_type": "markdown",
            "metadata": {},
            "source": [
                "The table below spfh stats for HT_ASHPs only, split between high temperature operation and not. Most HT_ASHPs operate above 65 degrees C within their analysis window."
            ]
        },
        {
            "cell_type": "code",
            "execution_count": null,
            "metadata": {},
            "outputs": [],
            "source": [
                "# Calculate statistics\n",
                "af.stats_by_hp_and_SPF_type(\n",
                "    homes_within_threshold[\n",
                "        (homes_within_threshold[\"HP_Type\"] == \"HT_ASHP\") & (homes_within_threshold[\"SPF_type\"] != \"SPFH3\")\n",
                "    ].dropna(subset=\"window_flow > 65C\"),\n",
                "    by=\"window_flow > 65C\",\n",
                ")[[\"window_flow > 65C\", \"SPF_type\", \"Homes\", \"Median (IQR)\", \"Mean (95% CI)\"]].reset_index(drop=True).set_index(\n",
                "    [\"window_flow > 65C\", \"SPF_type\"]\n",
                ").sort_index(\n",
                "    ascending=False\n",
                ")"
            ]
        },
        {
            "cell_type": "code",
            "execution_count": null,
            "metadata": {},
            "outputs": [],
            "source": [
                "# Bin window_% > 65C field\n",
                "homes_within_threshold[\"window_65_deg_binned\"] = pd.cut(\n",
                "    homes_within_threshold[\"window_% > 65C\"].dropna().sort_values(),\n",
                "    bins=[0, 0.01, 0.02, 0.03, 0.04, 0.05, 0.06, 0.07, 0.08, 0.09, 0.1],\n",
                ")\n",
                "\n",
                "# Filter for HT_ASHP and SPFH4 only\n",
                "homes_within_threshold_65_deg_binned = homes_within_threshold[\n",
                "    (homes_within_threshold[\"HP_Type\"] == \"HT_ASHP\") & (homes_within_threshold[\"SPF_type\"] == \"SPFH3\")\n",
                "].dropna(subset=\"window_65_deg_binned\")\n",
                "\n",
                "# Sorting and formatting of binned column\n",
                "homes_within_threshold_65_deg_binned = homes_within_threshold_65_deg_binned.sort_values(\"window_65_deg_binned\").astype(\n",
                "    str\n",
                ")\n",
                "homes_within_threshold_65_deg_binned[\"window_65_deg_binned\"] = homes_within_threshold_65_deg_binned[\n",
                "    \"window_65_deg_binned\"\n",
                "].replace(\n",
                "    {\n",
                "        \"(0.0, 0.01]\": \"(0, 1%]\",\n",
                "        \"(0.01, 0.02]\": \"(1, 2%]\",\n",
                "        \"(0.02, 0.03]\": \"(2, 3%]\",\n",
                "        \"(0.03, 0.04]\": \"(3, 4%]\",\n",
                "        \"(0.04, 0.05]\": \"(4, 5%]\",\n",
                "        \"(0.05, 0.06]\": \"(5, 6%]\",\n",
                "        \"(0.06, 0.07]\": \"(6, 7%]\",\n",
                "        \"(0.07, 0.08]\": \"(7, 8%]\",\n",
                "        \"(0.08, 0.09]\": \"(8, 9%]\",\n",
                "    }\n",
                ")"
            ]
        },
        {
            "cell_type": "markdown",
            "metadata": {},
            "source": [
                "The chart belows shows that most HT_ASHPs only operate above 65 degrees C for less than 1% of the time."
            ]
        },
        {
            "cell_type": "code",
            "execution_count": null,
            "metadata": {},
            "outputs": [],
            "source": [
                "# Generate histogram for binned % of window above 65 degrees C\n",
                "fig = px.histogram(\n",
                "    homes_within_threshold_65_deg_binned,\n",
                "    x=\"window_65_deg_binned\",\n",
                "    y=\"SPF_value\",\n",
                "    width=800,\n",
                "    labels={\n",
                "        \"window_65_deg_binned\": \"% of window above 65degC\",\n",
                "        \"spf_value\": \"SPFH3\",\n",
                "        \"(0.0, 0.01]\": \"A\",\n",
                "    },\n",
                "    histfunc=\"count\",\n",
                "    title=\"SPF by window_% > 65C\",\n",
                ")\n",
                "\n",
                "fig.update_layout(xaxis_tickformat=\"0%\")\n",
                "fig.show()"
            ]
        },
        {
            "cell_type": "markdown",
            "metadata": {},
            "source": [
                "#### Hybrid Heat Pumps - Heat Pump versus Boiler Analysis\n",
                "The section below looks only at Hybrid Heat Pumps.\n",
                "\n",
                "The proportion of the total heat energy output that comes from the heat pump (as opposed to the boiler) is calculated as 'hp_proportion_of_output'.\n",
                "\n",
                "##### What proportion of heat demand is supplied by the heat pump in a hybrid system?"
            ]
        },
        {
            "cell_type": "code",
            "execution_count": null,
            "metadata": {},
            "outputs": [],
            "source": [
                "# Filter for hybrid units\n",
                "home_summary_hybrids = homes_within_threshold[homes_within_threshold[\"HP_Type\"] == \"Hybrid\"]"
            ]
        },
        {
            "cell_type": "code",
            "execution_count": null,
            "metadata": {},
            "outputs": [],
            "source": [
                "# Filter for SPFH4 only\n",
                "homes_SPFH4_hybrids = home_summary_hybrids[home_summary_hybrids[\"SPF_type\"] == \"SPFH4\"]\n",
                "\n",
                "# Filter for columns of interest\n",
                "homes_SPFH4_hybrids = homes_SPFH4_hybrids[\n",
                "    [\n",
                "        \"Property_ID\",\n",
                "        \"HP_Type\",\n",
                "        \"SPF_type\",\n",
                "        \"window_Heat_Pump_Energy_Output\",\n",
                "        \"window_Boiler_Energy_Output\",\n",
                "        \"SPF_value\",\n",
                "        \"Removed_from_analysis\",\n",
                "    ]\n",
                "]\n",
                "\n",
                "# Calculate the proportion of total energy output that the heat pump provides\n",
                "homes_SPFH4_hybrids[\"hp_proportion_of_output\"] = homes_SPFH4_hybrids[\n",
                "    \"window_Heat_Pump_Energy_Output\"\n",
                "] / homes_SPFH4_hybrids[[\"window_Heat_Pump_Energy_Output\", \"window_Boiler_Energy_Output\"]].sum(axis=1)\n",
                "\n",
                "# Proportion values <0 and >0.99 have been removed as they are erroneous or outliers\n",
                "homes_SPFH4_hybrids = homes_SPFH4_hybrids[\n",
                "    (homes_SPFH4_hybrids[\"Removed_from_analysis\"] == False)\n",
                "    & (homes_SPFH4_hybrids[\"hp_proportion_of_output\"] >= 0)\n",
                "    & (homes_SPFH4_hybrids[\"hp_proportion_of_output\"] <= 0.99)\n",
                "]"
            ]
        },
        {
            "cell_type": "markdown",
            "metadata": {},
            "source": [
                "The chart below shows the frequency distribution of binned heat pump energy output as a percentage of total output."
            ]
        },
        {
            "cell_type": "code",
            "execution_count": null,
            "metadata": {},
            "outputs": [],
            "source": [
                "# Generate frequency distribution across binned heat pump energy output as percentage of total output\n",
                "\n",
                "hist_proportion_freq = px.histogram(\n",
                "    homes_SPFH4_hybrids,\n",
                "    x=\"hp_proportion_of_output\",\n",
                "    nbins=15,\n",
                "    width=800,\n",
                "    labels={\"hp_proportion_of_output\": \"Heat pump output as percentage of total space heating output\"},\n",
                "    title=\"Frequency Distribution by Proportion of Heat Pump Usage\",\n",
                ")\n",
                "hist_proportion_freq.update_layout(bargap=0.05, showlegend=False, xaxis_tickformat=\"0%\")\n",
                "hist_proportion_freq.show()"
            ]
        },
        {
            "cell_type": "markdown",
            "metadata": {},
            "source": [
                "The table below shows the SPFH4 values for hybrid heat pumps."
            ]
        },
        {
            "cell_type": "code",
            "execution_count": null,
            "metadata": {},
            "outputs": [],
            "source": [
                "# Calculate statistics for hybrids\n",
                "af.stats_by_hp_and_SPF_type(homes_SPFH4_hybrids)[\n",
                "    [\"HP_Type\", \"SPF_type\", \"Homes\", \"Mean (95% CI)\", \"Median (IQR)\"]\n",
                "].set_index([\"HP_Type\", \"SPF_type\"])"
            ]
        },
        {
            "cell_type": "markdown",
            "metadata": {},
            "source": [
                "##### Is heat pump efficiency higher if the heat pump provides more of the heat demand?"
            ]
        },
        {
            "cell_type": "markdown",
            "metadata": {},
            "source": [
                "There is a statistically significant relationship (p<0.05) between proportion_hp_to_boiler and SPF – systems with higher heat pump usage tend to have lower SPFs. Note that there is a lot of variation in performance that is not explained by this factor (R2=0.29)."
            ]
        },
        {
            "cell_type": "code",
            "execution_count": null,
            "metadata": {},
            "outputs": [],
            "source": [
                "# optional code\n",
                "\n",
                "# To this relationship, a linear model provides the following statistics:\n",
                "proportion_median = homes_SPFH4_hybrids[\"hp_proportion_of_output\"].median()\n",
                "ashp_median_SPFH2 = homes_within_threshold[\"SPF_value\"][\n",
                "    (homes_within_threshold[\"HP_Type\"] == \"ASHP\") & (homes_within_threshold[\"SPF_type\"] == \"SPFH4\")\n",
                "].median()\n",
                "\n",
                "slope, intercept, r_value, p_value, std_err = stats.linregress(\n",
                "    homes_SPFH4_hybrids[\"hp_proportion_of_output\"], homes_SPFH4_hybrids[\"SPF_value\"]\n",
                ")\n",
                "\n",
                "print(\n",
                "    round(\n",
                "        pd.DataFrame(\n",
                "            {\n",
                "                \"slope\": slope,\n",
                "                \"intercept\": intercept,\n",
                "                \"r_squared\": r_value**2,\n",
                "                \"p_value\": p_value,\n",
                "                \"std_err\": std_err,\n",
                "            },\n",
                "            index=[0],\n",
                "        ).T.rename({0: \"value\"}, axis=1),\n",
                "        2,\n",
                "    )\n",
                ")\n",
                "\n",
                "x = homes_SPFH4_hybrids[\"hp_proportion_of_output\"].max()\n",
                "y = slope * x + intercept\n",
                "\n",
                "# Generate scatter plot and regression line\n",
                "scatter_hpboiler_vs_SPF = px.scatter(\n",
                "    homes_SPFH4_hybrids,\n",
                "    x=\"hp_proportion_of_output\",\n",
                "    y=\"SPF_value\",\n",
                "    trendline=\"ols\",\n",
                "    width=600,\n",
                "    title=\"Relationship between heat pump proportion and SPFH4\",\n",
                "    labels={\n",
                "        \"SPF_value\": \"SPFH4\",\n",
                "        \"hp_proportion_of_output\": \"Heat pump output as percentage of total space heating output\",\n",
                "    },\n",
                ")\n",
                "scatter_hpboiler_vs_SPF.update_traces(opacity=scatter_opacity)\n",
                "scatter_hpboiler_vs_SPF.update_layout(xaxis_tickformat=\"0%\")\n",
                "scatter_hpboiler_vs_SPF.add_trace(\n",
                "    go.Scatter(\n",
                "        x=[x * 0.9],\n",
                "        y=[y],\n",
                "        mode=\"lines+text\",\n",
                "        text=f\"R²={round(r_value**2,2)}\",\n",
                "        textposition=\"middle center\",\n",
                "        textfont=dict(color=f\"rgb{list(cf.colour_scheme().values())[0]}\"),\n",
                "    )\n",
                ")\n",
                "scatter_hpboiler_vs_SPF.update_layout(showlegend=False)"
            ]
        },
        {
            "cell_type": "markdown",
            "metadata": {},
            "source": [
                "The table below shows statistics on the heat pump proportion of total energy output amongst hybrid heat pumps."
            ]
        },
        {
            "cell_type": "code",
            "execution_count": null,
            "metadata": {},
            "outputs": [],
            "source": [
                "pd.DataFrame(homes_SPFH4_hybrids[\"hp_proportion_of_output\"].describe())"
            ]
        }
    ],
    "metadata": {
        "interpreter": {
            "hash": "71944e760720e8245600bd84d984dcad76ef59e54d905ed8a60ff57ef0be5385"
        },
        "kernelspec": {
            "display_name": "Python 3.10.6 64-bit (windows store)",
            "language": "python",
            "name": "python3"
        },
        "language_info": {
            "codemirror_mode": {
                "name": "ipython",
                "version": 3
            },
            "file_extension": ".py",
            "mimetype": "text/x-python",
            "name": "python",
            "nbconvert_exporter": "python",
            "pygments_lexer": "ipython3",
            "version": "3.10.10"
        },
        "orig_nbformat": 4
    },
    "nbformat": 4,
    "nbformat_minor": 2
}
